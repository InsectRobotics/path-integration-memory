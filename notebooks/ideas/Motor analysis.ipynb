{
 "cells": [
  {
   "cell_type": "code",
   "execution_count": null,
   "id": "cffd201b",
   "metadata": {},
   "outputs": [],
   "source": [
    "%load_ext autoreload\n",
    "%autoreload 2\n",
    "%matplotlib notebook"
   ]
  },
  {
   "cell_type": "code",
   "execution_count": null,
   "id": "972db5c0",
   "metadata": {},
   "outputs": [],
   "source": [
    "import json\n",
    "import matplotlib.pyplot as plt\n",
    "from mpl_toolkits.mplot3d import axes3d\n",
    "from matplotlib import cm\n",
    "\n",
    "\n",
    "import numpy as np\n",
    "from loguru import logger\n",
    "logger.remove()\n",
    "\n",
    "from pim.models import rate\n",
    "from pim.models.weights import cpu1a_pontine_output, cpu1b_pontine_output, motor_output, pontine_output\n",
    "from pim.models.weights.shift import motor_output_theoretical, W_CPU4_CPU1a, W_CPU4_CPU1b\n",
    "from pim.models.constants import *\n",
    "from pim.network import Network, RecurrentForwardNetwork, InputLayer, Layer, FunctionLayer, Output, WeightedSynapse"
   ]
  },
  {
   "cell_type": "code",
   "execution_count": null,
   "id": "b32a19f1",
   "metadata": {},
   "outputs": [],
   "source": [
    "N_COLUMNS = 8\n",
    "x = np.linspace(0, np.pi*2, N_COLUMNS, endpoint = False)\n",
    "\n",
    "\n",
    "A = 0.1\n",
    "d = -np.pi/2\n",
    "\n",
    "head = np.maximum(0,0.5*np.cos(x + d)+0.5)\n",
    "home = np.maximum(0,A*(0.5 * np.cos(x) + 0.5))\n",
    "\n",
    "plt.plot(head)\n",
    "plt.plot(home)"
   ]
  },
  {
   "cell_type": "code",
   "execution_count": null,
   "id": "22834c94",
   "metadata": {},
   "outputs": [],
   "source": [
    "noise = 0.0\n",
    "pfn_weight_factor = 1\n",
    "\n",
    "def getNetwork(home, beta = 0.3):\n",
    "    return RecurrentForwardNetwork({\n",
    "        \"flow\": InputLayer(initial=np.zeros(2)),\n",
    "        \"heading\": InputLayer(),\n",
    "        \"TB1\": FunctionLayer(\n",
    "            inputs = [\"heading\"],\n",
    "            function = lambda i: 0.5 + 0.5 * np.cos(x + i[0]),\n",
    "        ),\n",
    "        \"TN1\": FunctionLayer(\n",
    "            inputs = [\"flow\"],\n",
    "            function = lambda i: np.array([0.,0.]),\n",
    "            initial = np.zeros(N_TN1),\n",
    "        ),\n",
    "        \"TN2\": FunctionLayer(\n",
    "            inputs = [\"flow\"],\n",
    "            function = lambda i: np.array([0.4,0.4]),\n",
    "            initial = np.zeros(N_TN2),\n",
    "        ),\n",
    "        \"CPU4\": rate.MemorylessCPU4Layer(\n",
    "            \"TB1\", \"TN1\", \"TN2\",\n",
    "            rate.W_TN_CPU4,\n",
    "            rate.W_TB1_CPU4,\n",
    "            gain = pfn_weight_factor,\n",
    "            slope = cpu4_slope_tuned,\n",
    "            bias = cpu4_bias_tuned,\n",
    "            noise = noise,\n",
    "            background_activity = beta,\n",
    "        ),\n",
    "        \"memory\": FunctionLayer(\n",
    "            inputs = [\"CPU4\"],\n",
    "            function = lambda i: i[0] * np.hstack([home,home]),\n",
    "        ),\n",
    "        \"Pontine\": FunctionLayer(\n",
    "            inputs = [\"memory\"],\n",
    "            function = pontine_output(noise),\n",
    "            initial = np.zeros(N_Pontine)\n",
    "        ),\n",
    "#         \"theory\": FunctionLayer(\n",
    "#             inputs = [\"memory\", \"CPU4\", \"TB1\", \"Pontine\"],\n",
    "#             function = motor_output_theoretical(noise)\n",
    "#         ),\n",
    "        \"CPU1a\": FunctionLayer(\n",
    "            inputs = [WeightedSynapse(\"CPU4\", W_CPU4_CPU1a), \"memory\", \"Pontine\"],\n",
    "            function = cpu1a_pontine_output(\n",
    "                noise,\n",
    "                cpu1_pontine_slope_tuned,\n",
    "                cpu1_pontine_bias_tuned,\n",
    "            ),\n",
    "            initial = np.zeros(N_CPU1A),\n",
    "        ),\n",
    "        \"CPU1b\": FunctionLayer(\n",
    "            inputs = [WeightedSynapse(\"CPU4\", W_CPU4_CPU1b), \"memory\", \"Pontine\"],\n",
    "            function = cpu1b_pontine_output(\n",
    "                noise,\n",
    "                cpu1_pontine_slope_tuned,\n",
    "                cpu1_pontine_bias_tuned,\n",
    "            ),\n",
    "            initial = np.zeros(N_CPU1B),\n",
    "        ),\n",
    "        \"motor\": FunctionLayer(\n",
    "            inputs = [\"CPU1a\", \"CPU1b\"],\n",
    "            function = motor_output(noise),\n",
    "        )\n",
    "    })"
   ]
  },
  {
   "cell_type": "code",
   "execution_count": null,
   "id": "dd7fe0db",
   "metadata": {},
   "outputs": [],
   "source": [
    "amplitudes = np.arange(0,1,0.01)\n",
    "betas = np.arange(0,0.6,0.01)\n",
    "deltas = np.arange(-np.pi,np.pi,0.01)\n",
    "results = []\n",
    "\n",
    "for b in betas:\n",
    "    home = np.clip(0.2*(0.5 * np.cos(x) + 0.5) + 0.8,0,1)\n",
    "    network = getNetwork(home,b)\n",
    "    motors = []\n",
    "    for delta in deltas:\n",
    "        network.layers[\"flow\"].set(0)\n",
    "        network.layers[\"heading\"].set(np.array([delta]))\n",
    "        network.step(1)\n",
    "        motor = network.output(\"motor\")\n",
    "        motors.append(motor)\n",
    "    results.append(motors)"
   ]
  },
  {
   "cell_type": "code",
   "execution_count": null,
   "id": "7c098221",
   "metadata": {},
   "outputs": [],
   "source": [
    "plt.figure(figsize=(10,10))\n",
    "plt.plot(deltas,motors)\n",
    "plt.ylim([-2,2])"
   ]
  },
  {
   "cell_type": "code",
   "execution_count": null,
   "id": "4b131470",
   "metadata": {
    "scrolled": false
   },
   "outputs": [],
   "source": [
    "fig = plt.figure(figsize=(10,10))\n",
    "ax = plt.axes(projection='3d')\n",
    "\n",
    "(x,y) = np.meshgrid(deltas,betas)\n",
    "z = np.array(results)\n",
    "\n",
    "ax.plot_surface(x,y,z,cmap='hot')\n",
    "ax.set_xlabel(\"\")\n",
    "# ax.view_init(0,-3)"
   ]
  },
  {
   "cell_type": "code",
   "execution_count": null,
   "id": "4cf99b75",
   "metadata": {},
   "outputs": [],
   "source": []
  }
 ],
 "metadata": {
  "kernelspec": {
   "display_name": "pim",
   "language": "python",
   "name": "pim"
  },
  "language_info": {
   "codemirror_mode": {
    "name": "ipython",
    "version": 3
   },
   "file_extension": ".py",
   "mimetype": "text/x-python",
   "name": "python",
   "nbconvert_exporter": "python",
   "pygments_lexer": "ipython3",
   "version": "3.10.4"
  }
 },
 "nbformat": 4,
 "nbformat_minor": 5
}
