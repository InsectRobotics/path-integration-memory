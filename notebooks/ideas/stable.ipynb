{
 "cells": [
  {
   "cell_type": "code",
   "execution_count": 99,
   "id": "6be08e2e-89bd-440a-936f-51cd3e9f3a57",
   "metadata": {},
   "outputs": [],
   "source": [
    "from scipy.optimize import root_scalar\n",
    "import numpy as np\n",
    "import matplotlib.pyplot as plt"
   ]
  },
  {
   "cell_type": "code",
   "execution_count": 100,
   "id": "dd9a3d61-05d7-4be7-be97-07d243e06cba",
   "metadata": {},
   "outputs": [
    {
     "name": "stdout",
     "output_type": "stream",
     "text": [
      "0.4999427327618892\n",
      "c0 = 0.29397840519592444\n"
     ]
    },
    {
     "data": {
      "image/png": "[encoded data removed]",
      "text/plain": [
       "<Figure size 432x288 with 1 Axes>"
      ]
     },
     "metadata": {
      "needs_background": "light"
     },
     "output_type": "display_data"
    }
   ],
   "source": [
    "c_tot = 0.3\n",
    "epsilon = 50\n",
    "beta = 0.5\n",
    "phi = 0.000001\n",
    "k = 0.0000008505\n",
    "\n",
    "def c(w):\n",
    "    return np.log10(w)/epsilon + c_tot\n",
    "\n",
    "def dwdt(u):\n",
    "    def f(t, w):\n",
    "        return epsilon*w*np.log(10)*(-k*c(w) + phi*u*(1-w))\n",
    "    return f\n",
    "    \n",
    "def solve(w0, U):\n",
    "    W = np.zeros(np.shape(U))\n",
    "    W[0] = w0\n",
    "    for t in range(1, len(U)):\n",
    "        delta = dwdt(U[t])(t, W[t-1])\n",
    "        #print(delta)\n",
    "        W[t] = W[t-1] + delta\n",
    "    return W\n",
    "\n",
    "roots = root_scalar(lambda w: dwdt(beta)(0, w), bracket=[0.1, 1])\n",
    "fixpoint = roots.root\n",
    "print(fixpoint)\n",
    "    \n",
    "t = 3000\n",
    "T = np.arange(t)\n",
    "U = np.ones(t) * beta\n",
    "\n",
    "U[T < 200] = beta + 0.5\n",
    "W1 = solve(fixpoint, U)\n",
    "\n",
    "U[T < 200] = beta - 0.5\n",
    "W2 = solve(fixpoint, U)\n",
    "\n",
    "#print(dwdt(beta)(0, 0.4153))\n",
    "\n",
    "print(\"c0 =\", c(fixpoint))\n",
    "\n",
    "#plt.plot(T, U, label=\"$u(t)$\")\n",
    "plt.plot(T, np.ones(t)*fixpoint, \"--\", label=\"rest\")\n",
    "plt.plot(T, W1, label=\"$w_1(t)$\")\n",
    "plt.plot(T, W2, label=\"$w_2(t)$\")\n",
    "#plt.ylim([0, 1])\n",
    "plt.legend()\n",
    "plt.show()"
   ]
  },
  {
   "cell_type": "markdown",
   "id": "69a64728-66c4-4a36-a9b7-5b56ddbadbbb",
   "metadata": {},
   "source": [
    "The problem seems to be that we cannot choose realistic parameters so that the gain is both large enough to be readable.\n",
    "\n",
    "Experiment above with increasing the gain without making decay too large by making $\\phi$ and $k$ tiny and $\\epsilon$ huge.\n",
    "\n",
    "https://www.desmos.com/calculator/cuk2lftyrz"
   ]
  }
 ],
 "metadata": {
  "kernelspec": {
   "display_name": "pim",
   "language": "python",
   "name": "pim"
  },
  "language_info": {
   "codemirror_mode": {
    "name": "ipython",
    "version": 3
   },
   "file_extension": ".py",
   "mimetype": "text/x-python",
   "name": "python",
   "nbconvert_exporter": "python",
   "pygments_lexer": "ipython3",
   "version": "3.10.4"
  }
 },
 "nbformat": 4,
 "nbformat_minor": 5
}
