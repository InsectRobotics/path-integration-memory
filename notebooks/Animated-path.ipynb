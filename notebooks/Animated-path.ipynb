{
 "cells": [
  {
   "cell_type": "code",
   "execution_count": null,
   "id": "6e84c669",
   "metadata": {
    "is_executing": true
   },
   "outputs": [],
   "source": [
    "from manim import *\n",
    "from manim_slides import Slide\n",
    "from manim.utils.color import Colors\n",
    "import json\n",
    "from scipy.interpolate import interp1d"
   ]
  },
  {
   "cell_type": "code",
   "execution_count": null,
   "id": "5525ece4",
   "metadata": {
    "is_executing": true
   },
   "outputs": [],
   "source": [
    "%%manim StonePath\n",
    "\n",
    "with open('./ideas/positions_stone.json', 'r') as f:\n",
    "    path = json.load(f)\n",
    "    path = np.array([[-p[0],p[1],0.0] for p in path])*0.018+0.1\n",
    "    f = interp1d(np.linspace(0,1,3001), path, axis=0)\n",
    "\n",
    "class StonePath(Slide, MovingCameraScene):\n",
    "    def construct(self):\n",
    "        \n",
    "        def update_bee(bee, dt):\n",
    "            new_pos = f(tracker.get_value())\n",
    "            tsub1 = f(np.maximum(0, tracker2.get_value()))\n",
    "            \n",
    "            diff = new_pos-tsub1\n",
    "            angle = np.arctan2(diff[1], diff[0])\n",
    "            bee.points = bee.original_points.copy()\n",
    "                \n",
    "            bee.rotate(angle-PI/2)\n",
    "            bee.move_to(new_pos)\n",
    "            \n",
    "            tracker2.set_value(tracker.get_value())\n",
    "            \n",
    "        title = Title(r\"Example path: Stone model\").set_z_index(100).shift(UP*3+RIGHT*5)\n",
    "        \n",
    "        outbound = ParametricFunction(f, t_range=[0,0.5], color=BLUE)\n",
    "        inbound = ParametricFunction(f, t_range=[0.5,1], color=ORANGE)\n",
    "        \n",
    "        outbound2 = ParametricFunction(f, t_range=[0,0.5], color=BLUE)\n",
    "        \n",
    "        label1 = Text(\"Outbound\").move_to([10,5,0])\n",
    "        line1 = Line([0,0,0],[1,0,0],color=BLUE,stroke_width=10).next_to(label1,LEFT)\n",
    "        label2 = Text(\"Inbound\").next_to(label1,DOWN)\n",
    "        line2 = Line([0,0,0],[1,0,0],color=ORANGE,stroke_width=10).next_to(label2,LEFT)\n",
    "        \n",
    "        tracker = ValueTracker(0)\n",
    "        tracker2 = ValueTracker(0)\n",
    "        \n",
    "        bee = ImageMobject(\"./images/bee_lowres.png\").add_updater(update_bee).set_z_index(10)\n",
    "        bee.height=0.2\n",
    "        bee.original_points = bee.points.copy()\n",
    "        nest = ImageMobject(\"./images/branch.png\").rotate(PI / 4)\n",
    "        nest.move_to([-0.7,0.1,0])\n",
    "        nest.height = 2\n",
    "        \n",
    "        self.camera.frame.move_to([5,3,0]) \n",
    "        self.play(Write(title))\n",
    "        self.add(tracker,tracker2)\n",
    "        \n",
    "        self.play(\n",
    "            Write(label1),\n",
    "            Write(label2),\n",
    "            Create(line1),\n",
    "            Create(line2),\n",
    "        )\n",
    "        self.pause()\n",
    "        self.play(FadeIn(nest))\n",
    "        self.add(bee)\n",
    "        self.play(\n",
    "            Create(outbound),\n",
    "            tracker.animate.set_value(0.5),\n",
    "            run_time=3\n",
    "        )\n",
    "        self.pause()\n",
    "        self.play(\n",
    "            Create(inbound),\n",
    "            tracker.animate.set_value(1),\n",
    "            run_time=2,\n",
    "        )\n",
    "        \n",
    "        self.pause()\n",
    "        self.wait(0.1)"
   ]
  },
  {
   "cell_type": "code",
   "execution_count": null,
   "id": "88af447f",
   "metadata": {},
   "outputs": [],
   "source": [
    "%%manim Methods\n",
    "\n",
    "class Methods(Slide):\n",
    "    def construct(self):\n",
    "        \n",
    "        title = Title(r\"Methods\").set_z_index(100)\n",
    "        \n",
    "        blist = BulletedList(\"Framework for simulation\", \"Mathematical dye model\", \"Evaluation of performance\")\n",
    "\n",
    "        self.play(Write(title))\n",
    "        self.play(Write(blist))\n",
    "        self.pause()\n",
    "        self.wait(0.1)"
   ]
  },
  {
   "cell_type": "code",
   "execution_count": null,
   "id": "5e9c2658",
   "metadata": {},
   "outputs": [],
   "source": [
    "%%manim ClosestDist\n",
    "\n",
    "with open('./ideas/positions2.json', 'r') as f:\n",
    "    path2 = json.load(f)\n",
    "path2 = np.array([p+[0.0] for p in path2])*0.05\n",
    "f2= interp1d(np.linspace(0,1,1401), path2, axis=0)\n",
    "\n",
    "\n",
    "class ClosestDist(Slide):\n",
    "    def construct(self):\n",
    "        \n",
    "        title = Title(r\"Error metrics \\texttt{\\#}1: Closest distance to home\").set_z_index(100)\n",
    "        \n",
    "        outbound = ParametricFunction(f2, t_range=[0,1000/1400], color=BLUE)\n",
    "        inbound = ParametricFunction(f2, t_range=[1000/1400,1], color=ORANGE)\n",
    "        home = Dot(point=f2(0),color=GREEN).set_z_index(10)\n",
    "        \n",
    "        \n",
    "        \n",
    "        pathgroup = Group(home,outbound,inbound).move_to(DOWN+LEFT*2).rotate(PI/2)\n",
    "        \n",
    "        label1 = Text(\"Outbound\").move_to(RIGHT*4+UP*2).set_z_index(100)\n",
    "        line1 = Line([0,0,0],[1,0,0],color=BLUE,stroke_width=10).next_to(label1,LEFT).set_z_index(100)\n",
    "        label2 = Text(\"Inbound\").next_to(label1,DOWN).set_z_index(100)\n",
    "        line2 = Line([0,0,0],[1,0,0],color=ORANGE,stroke_width=10).next_to(label2,LEFT).set_z_index(100)\n",
    "        \n",
    "        labelgroup = Group(label1,line1,label2,line2)\n",
    "        \n",
    "        \n",
    "        \n",
    "        self.play(Write(title),FadeIn(home))\n",
    "        self.play(\n",
    "            Write(label1),\n",
    "            Write(label2),\n",
    "            Create(line1),\n",
    "            Create(line2),\n",
    "        )\n",
    "        self.pause()\n",
    "        \n",
    "        self.play(Create(outbound))\n",
    "#         self.pause()\n",
    "        self.play(Create(inbound))\n",
    "        self.pause()\n",
    "        self.play(\n",
    "            pathgroup.animate.shift(RIGHT*9+UP*5).scale(6.5),\n",
    "            labelgroup.animate.move_to(RIGHT*4+DOWN*3)\n",
    "        )\n",
    "        self.play(home.animate.scale(0.2),run_time=0.5)\n",
    "        \n",
    "        self.pause()\n",
    "        \n",
    "        errorline = DashedLine(start=home.get_center(),end=home.get_center()+UP*0.9)\n",
    "        brace = Brace(errorline,direction=errorline.copy().rotate(-PI/2).get_unit_vector(),buff=0.2)\n",
    "        b1text = brace.get_text(\"closest distance\")\n",
    "        \n",
    "        self.play(Create(errorline),Create(brace),Write(b1text))\n",
    "        \n",
    "        self.pause()\n",
    "        self.wait(0.1)"
   ]
  },
  {
   "cell_type": "code",
   "execution_count": null,
   "id": "c8b3b49f",
   "metadata": {},
   "outputs": [],
   "source": [
    "%%manim MemError\n",
    "\n",
    "class MemError(Slide):\n",
    "    def construct(self):\n",
    "        \n",
    "        title = Title(r\"Error metrics \\texttt{\\#}2: Memory error\")\n",
    "        \n",
    "        home_pos = RIGHT*3 + DOWN\n",
    "        bee_pos = LEFT*3 + DOWN\n",
    "        \n",
    "        home = Dot(point=home_pos, color=GREEN)\n",
    "        bee = ImageMobject(\"./images/bee_lowres.png\").set_z_index(10).move_to(bee_pos).rotate(PI/3)\n",
    "        bee.height=0.5\n",
    "        \n",
    "        \n",
    "        homevector = Arrow(start=bee_pos,end=home_pos,buff=0,color=GREEN)\n",
    "        hvtext = Text(\"actual home vector\", font_size=30).move_to(homevector.get_center()+DOWN/2)\n",
    "        \n",
    "        angle = PI/2-3*PI/8\n",
    "        x = np.linalg.norm(home_pos-bee_pos)*np.cos(angle)*np.cos(angle)\n",
    "        y = np.linalg.norm(home_pos-bee_pos)*np.cos(angle)*np.sin(angle)\n",
    "        mem_end = bee_pos + [x,y,0]\n",
    "        memvector = Arrow(start=bee_pos,end=mem_end,buff=0,color=ORANGE)\n",
    "        mvtext = Text(\"decoded memory\", font_size=30).move_to(memvector.get_center()+LEFT*1.5+UP/2)\n",
    "        \n",
    "        errorline = DashedLine(end=homevector.get_end(),start=memvector.get_end())\n",
    "        brace = Brace(errorline,direction=errorline.copy().rotate(PI/2).get_unit_vector(),buff=0.5)\n",
    "        b1text = brace.get_text(\"memory error\")\n",
    "        \n",
    "        self.play(Write(title))\n",
    "        self.play(FadeIn(bee),FadeIn(home))\n",
    "        self.play(GrowArrow(homevector))\n",
    "        self.play(Write(hvtext),run_time=1)\n",
    "        self.pause()\n",
    "        self.play(GrowArrow(memvector))\n",
    "        self.play(Write(mvtext),run_time=1)\n",
    "        self.pause()\n",
    "        self.play(Create(errorline))\n",
    "        self.play(Create(brace),Write(b1text))\n",
    "        self.pause()\n",
    "        self.wait(0.1)"
   ]
  },
  {
   "cell_type": "code",
   "execution_count": null,
   "id": "a23d6af2",
   "metadata": {},
   "outputs": [],
   "source": [
    "%%manim HeadError\n",
    "\n",
    "class HeadError(Slide):\n",
    "    def construct(self):\n",
    "        \n",
    "        title = Title(r\"Error metrics \\texttt{\\#}3: Heading error\")\n",
    "        \n",
    "        subtext = Text(\"*Only interesting during homing\", font_size=20).move_to(DOWN*3.5+LEFT*4.5)\n",
    "        \n",
    "        home_pos = RIGHT*3 + DOWN\n",
    "        bee_pos = LEFT*3 + DOWN\n",
    "        \n",
    "        home = Dot(point=home_pos, color=GREEN)\n",
    "        bee = ImageMobject(\"./images/bee_lowres.png\").set_z_index(10).move_to(bee_pos+UP*0.07).rotate(-3*PI/8)\n",
    "        bee.height=0.35\n",
    "        \n",
    "        \n",
    "        homevector = Arrow(start=bee_pos,end=home_pos,buff=0,color=GREEN)\n",
    "        hvtext = Text(\"actual home vector\", font_size=30).move_to(homevector.get_center()+DOWN/2)\n",
    "        \n",
    "        angle = PI/2-3*PI/8\n",
    "        x = np.linalg.norm(home_pos-bee_pos)*np.cos(angle)*np.cos(angle)\n",
    "        y = np.linalg.norm(home_pos-bee_pos)*np.cos(angle)*np.sin(angle)\n",
    "        head_end = bee_pos + [x,y,0]\n",
    "        headvector = Arrow(start=bee_pos,end=head_end,buff=0,color=BLUE)\n",
    "        htext = Text(\"head direction\", font_size=30).move_to(headvector.get_center()+LEFT*1.1+UP/2)\n",
    "        \n",
    "        errorline = DashedLine(end=homevector.get_end(),start=headvector.get_end())\n",
    "        brace = Brace(errorline,direction=errorline.copy().rotate(PI/2).get_unit_vector(),buff=0.5)\n",
    "        b1text = brace.get_text(\"heading error\")\n",
    "        \n",
    "        self.play(Write(title))\n",
    "        self.play(FadeIn(bee),FadeIn(home))\n",
    "        self.play(GrowArrow(homevector))\n",
    "        self.play(Write(hvtext),run_time=1)\n",
    "        self.pause()\n",
    "        self.play(GrowArrow(headvector))\n",
    "        self.play(Write(htext),run_time=1)\n",
    "        self.pause()\n",
    "        self.play(Create(errorline))\n",
    "        self.play(Create(brace),Write(b1text))\n",
    "        self.play(Write(subtext),run_time=0.3)\n",
    "        self.pause()\n",
    "        self.wait(0.1)"
   ]
  },
  {
   "cell_type": "code",
   "execution_count": null,
   "id": "13464077",
   "metadata": {},
   "outputs": [],
   "source": [
    "%%manim Tortuosity\n",
    "\n",
    "class Tortuosity(Slide):\n",
    "    def construct(self):\n",
    "        \n",
    "        title = Title(r\"Error metrics \\texttt{\\#}4: Tortuosity\")\n",
    "        \n",
    "        \n",
    "        home_pos = RIGHT*3 + DOWN\n",
    "        bee_pos = LEFT*3 + DOWN\n",
    "        \n",
    "        home = Dot(point=home_pos, color=GREEN).set_z_index(10)\n",
    "        bee = ImageMobject(\"./images/bee_lowres.png\").set_z_index(10).move_to(bee_pos+UP*0.07).rotate(-3*PI/8)\n",
    "        bee.height=0.35\n",
    "        \n",
    "        straight_line = Line(start=bee_pos,end=home_pos,buff=0,color=ORANGE,stroke_width=5)\n",
    "#         text1 = Text(\"L\", font_size=30).move_to(straight_line.get_center()+DOWN/2)\n",
    "        \n",
    "        brace1 = Brace(Line([-3,0,0]+DOWN,[3,0,0]+DOWN),direction=DOWN,buff=0.5)\n",
    "        b1text = brace1.get_text(\"L\")\n",
    "        \n",
    "        bent = ParametricFunction(\n",
    "            lambda x: [x,-1*(x/3)**2,0],\n",
    "            t_range=[-3,3],\n",
    "            color=\"#3F00FF\",\n",
    "            stroke_width=5\n",
    "        )\n",
    "        \n",
    "        bent2 = ParametricFunction(\n",
    "            lambda x: [x,-1*(x/3)**2,0],\n",
    "            t_range=[-3,2],\n",
    "            color=ORANGE,\n",
    "            stroke_width=5\n",
    "        )\n",
    "#         text2 = Text(\"C\", font_size=30, color=WHITE).move_to(bent2.get_center()+UP)\n",
    "        \n",
    "        brace2 = Brace(Line([-3,0,0],[2,0,0]),direction=UP,buff=0.1)\n",
    "        b2text = brace2.get_text(\"C\")\n",
    "        \n",
    "        eq = MathTex(r'T=\\frac{L}{C}').move_to(RIGHT*3+DOWN/2)\n",
    "        \n",
    "        self.play(Write(title))\n",
    "        self.play(FadeIn(bee),FadeIn(home))\n",
    "        self.play(Create(straight_line))\n",
    "        self.pause()\n",
    "        self.play(Create(bent))\n",
    "        self.pause()\n",
    "        self.play(Create(brace1),Write(b1text))\n",
    "        self.pause()\n",
    "        self.play(Create(bent2))\n",
    "        self.play(Create(brace2),Write(b2text))\n",
    "        self.pause()\n",
    "        self.play(Group(bee,home,straight_line,brace1,b1text,brace2,b2text,bent,bent2).animate.shift(LEFT*3))\n",
    "        self.play(Write(eq))\n",
    "        self.pause()\n",
    "        self.wait(0.1)"
   ]
  },
  {
   "cell_type": "code",
   "execution_count": null,
   "id": "3b447cac",
   "metadata": {},
   "outputs": [],
   "source": [
    "%%manim WeightPath\n",
    "\n",
    "with open('./ideas/positions_weights.json', 'r') as f:\n",
    "    path = json.load(f)\n",
    "    path = np.array([[-p[0],p[1],0.0] for p in path])*0.018+0.1\n",
    "    f = interp1d(np.linspace(0,1,3001), path, axis=0)\n",
    "\n",
    "class WeightPath(Slide, MovingCameraScene):\n",
    "    def construct(self):\n",
    "        \n",
    "        def update_bee(bee, dt):\n",
    "            new_pos = f(tracker.get_value())\n",
    "            tsub1 = f(np.maximum(0, tracker2.get_value()))\n",
    "            \n",
    "            diff = new_pos-tsub1\n",
    "            angle = np.arctan2(diff[1], diff[0])\n",
    "            bee.points = bee.original_points.copy()\n",
    "                \n",
    "            bee.rotate(angle-PI/2)\n",
    "            bee.move_to(new_pos)\n",
    "            \n",
    "            tracker2.set_value(tracker.get_value())\n",
    "            \n",
    "        title = Title(r\"Example path: Synaptic weights\").set_z_index(100).shift(UP*3+RIGHT*5)\n",
    "        \n",
    "        outbound = ParametricFunction(f, t_range=[0,0.5], color=BLUE)\n",
    "        inbound = ParametricFunction(f, t_range=[0.5,1], color=ORANGE)\n",
    "        \n",
    "        outbound2 = ParametricFunction(f, t_range=[0,0.5], color=BLUE)\n",
    "        \n",
    "        label1 = Text(\"Outbound\").move_to([10,5,0])\n",
    "        line1 = Line([0,0,0],[1,0,0],color=BLUE,stroke_width=10).next_to(label1,LEFT)\n",
    "        label2 = Text(\"Inbound\").next_to(label1,DOWN)\n",
    "        line2 = Line([0,0,0],[1,0,0],color=ORANGE,stroke_width=10).next_to(label2,LEFT)\n",
    "        \n",
    "        tracker = ValueTracker(0)\n",
    "        tracker2 = ValueTracker(0)\n",
    "        \n",
    "        bee = ImageMobject(\"./images/bee_lowres.png\").add_updater(update_bee).set_z_index(10)\n",
    "        bee.height=0.2\n",
    "        bee.original_points = bee.points.copy()\n",
    "        nest = ImageMobject(\"./images/branch.png\").rotate(PI / 4)\n",
    "        nest.move_to([-0.7,0.1,0])\n",
    "        nest.height = 2\n",
    "        \n",
    "        self.camera.frame.move_to([5,3,0]) \n",
    "        self.play(Write(title))\n",
    "        self.add(tracker,tracker2)\n",
    "        \n",
    "        self.play(\n",
    "            Write(label1),\n",
    "            Write(label2),\n",
    "            Create(line1),\n",
    "            Create(line2),\n",
    "        )\n",
    "        self.pause()\n",
    "        self.play(FadeIn(nest))\n",
    "        self.add(bee)\n",
    "        self.play(\n",
    "            Create(outbound),\n",
    "            tracker.animate.set_value(0.5),\n",
    "            run_time=3\n",
    "        )\n",
    "        self.pause()\n",
    "        self.play(\n",
    "            Create(inbound),\n",
    "            tracker.animate.set_value(1),\n",
    "            run_time=2,\n",
    "        )\n",
    "        \n",
    "        self.pause()\n",
    "        self.wait(0.1)"
   ]
  },
  {
   "cell_type": "code",
   "execution_count": null,
   "id": "50126c42",
   "metadata": {
    "scrolled": false
   },
   "outputs": [],
   "source": [
    "%%manim DyeMechanics\n",
    "\n",
    "class DyeMechanics(Slide):\n",
    "    def construct(self):\n",
    "        \n",
    "        title = Title(r\"Dye mechanics\").set_z_index(100)\n",
    "        \n",
    "        eq = MathTex(r\"\\frac{dc}{dt}\", \" = -\", \"k\",\"c\",\" + \",\"u\",\"\\phi\",\"(1-\",\"T\",\")\").shift(DOWN)\n",
    "        \n",
    "        transmittance = MathTex(\"T = \",\"10^{\",\"A\",\"}\").next_to(eq,UP*2)\n",
    "        absorbance = MathTex(\"A = \",\"\\epsilon\",\"\\cdot\",\"l\",\"\\cdot\",\"(\",\"c_{tot}\",\"-c)\").next_to(transmittance,UP)\n",
    "        \n",
    "        \n",
    "        phi = MathTex(\"\\phi\",\" [M/s] = \\Phi [1] \\cdot \\Psi [M/J] \\cdot W_{max} [J/s]\").next_to(eq,DOWN*2)\n",
    "        phi.set_color_by_tex(\"\\phi\",color=Colors.pure_red.value)\n",
    "        \n",
    "        \n",
    "        self.play(Write(title))\n",
    "        \n",
    "        self.play(Write(eq),Write(absorbance),Write(transmittance))\n",
    "        self.pause()\n",
    "        \n",
    "        self.play(absorbance.set_color_by_tex(\"\\epsilon\",color=Colors.pure_red.value).animate)\n",
    "        self.pause()\n",
    "        \n",
    "        self.play(absorbance.set_color_by_tex(\"l\",color=Colors.pure_red.value).animate,absorbance.set_color_by_tex(\"\\epsilon\",color=WHITE).animate)\n",
    "        self.pause()\n",
    "        \n",
    "        self.play(absorbance.set_color_by_tex(\"l\",color=WHITE).animate,absorbance.set_color_by_tex(\"c_{tot}\",color=Colors.pure_red.value).animate)\n",
    "        self.pause()\n",
    "        \n",
    "        self.play(absorbance.set_color_by_tex(\"c_{tot}\",color=WHITE).animate)\n",
    "        self.pause()\n",
    "        \n",
    "        self.play(eq.set_color_by_tex(\"k\",color=Colors.pure_red.value).animate)\n",
    "        self.pause()\n",
    "        \n",
    "        self.play(eq.set_color_by_tex(\"k\",color=WHITE).animate, eq.set_color_by_tex(\"\\phi\",color=Colors.pure_red.value).animate)\n",
    "        self.pause()\n",
    "        \n",
    "        self.play(Group(transmittance,absorbance,eq).animate.shift(UP))\n",
    "        self.play(Write(phi))\n",
    "        \n",
    "#         self.play(eq.set_color_by_tex(\"\\phi\",color=WHITE).animate)\n",
    "        \n",
    "        self.pause()\n",
    "        self.wait(0.1)"
   ]
  },
  {
   "cell_type": "code",
   "execution_count": 6,
   "id": "2c9f7649",
   "metadata": {
    "scrolled": false
   },
   "outputs": [
    {
     "data": {
      "text/html": [
       "<pre style=\"white-space:pre;overflow-x:auto;line-height:normal;font-family:Menlo,'DejaVu Sans Mono',consolas,'Courier New',monospace\"><span style=\"color: #7fbfbf; text-decoration-color: #7fbfbf\">[11/30/22 16:35:28] </span><span style=\"color: #008000; text-decoration-color: #008000\">INFO    </span> Animation <span style=\"color: #008000; text-decoration-color: #008000\">0</span> : Using cached data <span style=\"font-weight: bold\">(</span>hash :                           <a href=\"file:///home/jacob/path-integration-memory/venv/lib/python3.8/site-packages/manim/renderer/cairo_renderer.py\" target=\"_blank\"><span style=\"color: #7f7f7f; text-decoration-color: #7f7f7f\">cairo_renderer.py</span></a><span style=\"color: #7f7f7f; text-decoration-color: #7f7f7f\">:</span><a href=\"file:///home/jacob/path-integration-memory/venv/lib/python3.8/site-packages/manim/renderer/cairo_renderer.py#75\" target=\"_blank\"><span style=\"color: #7f7f7f; text-decoration-color: #7f7f7f\">75</span></a>\n",
       "<span style=\"color: #7fbfbf; text-decoration-color: #7fbfbf\">                    </span>         2724823860_1078173452_223132457<span style=\"font-weight: bold\">)</span>                                  <span style=\"color: #7f7f7f; text-decoration-color: #7f7f7f\">                    </span>\n",
       "</pre>\n"
      ],
      "text/plain": [
       "\u001B[2;36m[11/30/22 16:35:28]\u001B[0m\u001B[2;36m \u001B[0m\u001B[32mINFO    \u001B[0m Animation \u001B[32m0\u001B[0m : Using cached data \u001B[1m(\u001B[0mhash :                           \u001B]8;id=738002;file:///home/jacob/path-integration-memory/venv/lib/python3.8/site-packages/manim/renderer/cairo_renderer.py\u001B\\\u001B[2mcairo_renderer.py\u001B[0m\u001B]8;;\u001B\\\u001B[2m:\u001B[0m\u001B]8;id=968534;file:///home/jacob/path-integration-memory/venv/lib/python3.8/site-packages/manim/renderer/cairo_renderer.py#75\u001B\\\u001B[2m75\u001B[0m\u001B]8;;\u001B\\\n",
       "\u001B[2;36m                    \u001B[0m         2724823860_1078173452_223132457\u001B[1m)\u001B[0m                                  \u001B[2m                    \u001B[0m\n"
      ]
     },
     "metadata": {},
     "output_type": "display_data"
    },
    {
     "name": "stderr",
     "output_type": "stream",
     "text": [
      "                                                                                                                                                                        \r"
     ]
    },
    {
     "data": {
      "text/html": [
       "<pre style=\"white-space:pre;overflow-x:auto;line-height:normal;font-family:Menlo,'DejaVu Sans Mono',consolas,'Courier New',monospace\"><span style=\"color: #7fbfbf; text-decoration-color: #7fbfbf\">                    </span><span style=\"color: #008000; text-decoration-color: #008000\">INFO    </span> Animation <span style=\"color: #008000; text-decoration-color: #008000\">1</span> : Using cached data <span style=\"font-weight: bold\">(</span>hash :                           <a href=\"file:///home/jacob/path-integration-memory/venv/lib/python3.8/site-packages/manim/renderer/cairo_renderer.py\" target=\"_blank\"><span style=\"color: #7f7f7f; text-decoration-color: #7f7f7f\">cairo_renderer.py</span></a><span style=\"color: #7f7f7f; text-decoration-color: #7f7f7f\">:</span><a href=\"file:///home/jacob/path-integration-memory/venv/lib/python3.8/site-packages/manim/renderer/cairo_renderer.py#75\" target=\"_blank\"><span style=\"color: #7f7f7f; text-decoration-color: #7f7f7f\">75</span></a>\n",
       "<span style=\"color: #7fbfbf; text-decoration-color: #7fbfbf\">                    </span>         1164547788_3925602845_3362834651<span style=\"font-weight: bold\">)</span>                                 <span style=\"color: #7f7f7f; text-decoration-color: #7f7f7f\">                    </span>\n",
       "</pre>\n"
      ],
      "text/plain": [
       "\u001B[2;36m                   \u001B[0m\u001B[2;36m \u001B[0m\u001B[32mINFO    \u001B[0m Animation \u001B[32m1\u001B[0m : Using cached data \u001B[1m(\u001B[0mhash :                           \u001B]8;id=109652;file:///home/jacob/path-integration-memory/venv/lib/python3.8/site-packages/manim/renderer/cairo_renderer.py\u001B\\\u001B[2mcairo_renderer.py\u001B[0m\u001B]8;;\u001B\\\u001B[2m:\u001B[0m\u001B]8;id=897410;file:///home/jacob/path-integration-memory/venv/lib/python3.8/site-packages/manim/renderer/cairo_renderer.py#75\u001B\\\u001B[2m75\u001B[0m\u001B]8;;\u001B\\\n",
       "\u001B[2;36m                    \u001B[0m         1164547788_3925602845_3362834651\u001B[1m)\u001B[0m                                 \u001B[2m                    \u001B[0m\n"
      ]
     },
     "metadata": {},
     "output_type": "display_data"
    },
    {
     "name": "stderr",
     "output_type": "stream",
     "text": [
      "                                                                                                                                                                        \r"
     ]
    },
    {
     "data": {
      "text/html": [
       "<pre style=\"white-space:pre;overflow-x:auto;line-height:normal;font-family:Menlo,'DejaVu Sans Mono',consolas,'Courier New',monospace\"><span style=\"color: #7fbfbf; text-decoration-color: #7fbfbf\">                    </span><span style=\"color: #008000; text-decoration-color: #008000\">INFO    </span> Animation <span style=\"color: #008000; text-decoration-color: #008000\">2</span> : Using cached data <span style=\"font-weight: bold\">(</span>hash :                           <a href=\"file:///home/jacob/path-integration-memory/venv/lib/python3.8/site-packages/manim/renderer/cairo_renderer.py\" target=\"_blank\"><span style=\"color: #7f7f7f; text-decoration-color: #7f7f7f\">cairo_renderer.py</span></a><span style=\"color: #7f7f7f; text-decoration-color: #7f7f7f\">:</span><a href=\"file:///home/jacob/path-integration-memory/venv/lib/python3.8/site-packages/manim/renderer/cairo_renderer.py#75\" target=\"_blank\"><span style=\"color: #7f7f7f; text-decoration-color: #7f7f7f\">75</span></a>\n",
       "<span style=\"color: #7fbfbf; text-decoration-color: #7fbfbf\">                    </span>         1164547788_3822432335_2589047515<span style=\"font-weight: bold\">)</span>                                 <span style=\"color: #7f7f7f; text-decoration-color: #7f7f7f\">                    </span>\n",
       "</pre>\n"
      ],
      "text/plain": [
       "\u001B[2;36m                   \u001B[0m\u001B[2;36m \u001B[0m\u001B[32mINFO    \u001B[0m Animation \u001B[32m2\u001B[0m : Using cached data \u001B[1m(\u001B[0mhash :                           \u001B]8;id=700188;file:///home/jacob/path-integration-memory/venv/lib/python3.8/site-packages/manim/renderer/cairo_renderer.py\u001B\\\u001B[2mcairo_renderer.py\u001B[0m\u001B]8;;\u001B\\\u001B[2m:\u001B[0m\u001B]8;id=510049;file:///home/jacob/path-integration-memory/venv/lib/python3.8/site-packages/manim/renderer/cairo_renderer.py#75\u001B\\\u001B[2m75\u001B[0m\u001B]8;;\u001B\\\n",
       "\u001B[2;36m                    \u001B[0m         1164547788_3822432335_2589047515\u001B[1m)\u001B[0m                                 \u001B[2m                    \u001B[0m\n"
      ]
     },
     "metadata": {},
     "output_type": "display_data"
    },
    {
     "name": "stderr",
     "output_type": "stream",
     "text": [
      "                                                                                                                                                                        \r"
     ]
    },
    {
     "data": {
      "text/html": [
       "<pre style=\"white-space:pre;overflow-x:auto;line-height:normal;font-family:Menlo,'DejaVu Sans Mono',consolas,'Courier New',monospace\"><span style=\"color: #7fbfbf; text-decoration-color: #7fbfbf\">                    </span><span style=\"color: #008000; text-decoration-color: #008000\">INFO    </span> Animation <span style=\"color: #008000; text-decoration-color: #008000\">3</span> : Using cached data <span style=\"font-weight: bold\">(</span>hash :                           <a href=\"file:///home/jacob/path-integration-memory/venv/lib/python3.8/site-packages/manim/renderer/cairo_renderer.py\" target=\"_blank\"><span style=\"color: #7f7f7f; text-decoration-color: #7f7f7f\">cairo_renderer.py</span></a><span style=\"color: #7f7f7f; text-decoration-color: #7f7f7f\">:</span><a href=\"file:///home/jacob/path-integration-memory/venv/lib/python3.8/site-packages/manim/renderer/cairo_renderer.py#75\" target=\"_blank\"><span style=\"color: #7f7f7f; text-decoration-color: #7f7f7f\">75</span></a>\n",
       "<span style=\"color: #7fbfbf; text-decoration-color: #7fbfbf\">                    </span>         1164547788_1202656734_4057881607<span style=\"font-weight: bold\">)</span>                                 <span style=\"color: #7f7f7f; text-decoration-color: #7f7f7f\">                    </span>\n",
       "</pre>\n"
      ],
      "text/plain": [
       "\u001B[2;36m                   \u001B[0m\u001B[2;36m \u001B[0m\u001B[32mINFO    \u001B[0m Animation \u001B[32m3\u001B[0m : Using cached data \u001B[1m(\u001B[0mhash :                           \u001B]8;id=802705;file:///home/jacob/path-integration-memory/venv/lib/python3.8/site-packages/manim/renderer/cairo_renderer.py\u001B\\\u001B[2mcairo_renderer.py\u001B[0m\u001B]8;;\u001B\\\u001B[2m:\u001B[0m\u001B]8;id=590184;file:///home/jacob/path-integration-memory/venv/lib/python3.8/site-packages/manim/renderer/cairo_renderer.py#75\u001B\\\u001B[2m75\u001B[0m\u001B]8;;\u001B\\\n",
       "\u001B[2;36m                    \u001B[0m         1164547788_1202656734_4057881607\u001B[1m)\u001B[0m                                 \u001B[2m                    \u001B[0m\n"
      ]
     },
     "metadata": {},
     "output_type": "display_data"
    },
    {
     "name": "stderr",
     "output_type": "stream",
     "text": [
      "                                                                                                                                                                        )), etc.:   0%|                                                                          | 0/1 [00:00<?, ?it/s]\r"
     ]
    },
    {
     "data": {
      "text/html": [
       "<pre style=\"white-space:pre;overflow-x:auto;line-height:normal;font-family:Menlo,'DejaVu Sans Mono',consolas,'Courier New',monospace\"><span style=\"color: #7fbfbf; text-decoration-color: #7fbfbf\">                    </span><span style=\"color: #008000; text-decoration-color: #008000\">INFO    </span> Animation <span style=\"color: #008000; text-decoration-color: #008000\">4</span> : Using cached data <span style=\"font-weight: bold\">(</span>hash :                           <a href=\"file:///home/jacob/path-integration-memory/venv/lib/python3.8/site-packages/manim/renderer/cairo_renderer.py\" target=\"_blank\"><span style=\"color: #7f7f7f; text-decoration-color: #7f7f7f\">cairo_renderer.py</span></a><span style=\"color: #7f7f7f; text-decoration-color: #7f7f7f\">:</span><a href=\"file:///home/jacob/path-integration-memory/venv/lib/python3.8/site-packages/manim/renderer/cairo_renderer.py#75\" target=\"_blank\"><span style=\"color: #7f7f7f; text-decoration-color: #7f7f7f\">75</span></a>\n",
       "<span style=\"color: #7fbfbf; text-decoration-color: #7fbfbf\">                    </span>         1164547788_3409719442_3945587934<span style=\"font-weight: bold\">)</span>                                 <span style=\"color: #7f7f7f; text-decoration-color: #7f7f7f\">                    </span>\n",
       "</pre>\n"
      ],
      "text/plain": [
       "\u001B[2;36m                   \u001B[0m\u001B[2;36m \u001B[0m\u001B[32mINFO    \u001B[0m Animation \u001B[32m4\u001B[0m : Using cached data \u001B[1m(\u001B[0mhash :                           \u001B]8;id=186576;file:///home/jacob/path-integration-memory/venv/lib/python3.8/site-packages/manim/renderer/cairo_renderer.py\u001B\\\u001B[2mcairo_renderer.py\u001B[0m\u001B]8;;\u001B\\\u001B[2m:\u001B[0m\u001B]8;id=400252;file:///home/jacob/path-integration-memory/venv/lib/python3.8/site-packages/manim/renderer/cairo_renderer.py#75\u001B\\\u001B[2m75\u001B[0m\u001B]8;;\u001B\\\n",
       "\u001B[2;36m                    \u001B[0m         1164547788_3409719442_3945587934\u001B[1m)\u001B[0m                                 \u001B[2m                    \u001B[0m\n"
      ]
     },
     "metadata": {},
     "output_type": "display_data"
    },
    {
     "data": {
      "text/html": [
       "<pre style=\"white-space:pre;overflow-x:auto;line-height:normal;font-family:Menlo,'DejaVu Sans Mono',consolas,'Courier New',monospace\"><span style=\"color: #7fbfbf; text-decoration-color: #7fbfbf\">                    </span><span style=\"color: #008000; text-decoration-color: #008000\">INFO    </span> Combining to Movie file.                                      <a href=\"file:///home/jacob/path-integration-memory/venv/lib/python3.8/site-packages/manim/scene/scene_file_writer.py\" target=\"_blank\"><span style=\"color: #7f7f7f; text-decoration-color: #7f7f7f\">scene_file_writer.py</span></a><span style=\"color: #7f7f7f; text-decoration-color: #7f7f7f\">:</span><a href=\"file:///home/jacob/path-integration-memory/venv/lib/python3.8/site-packages/manim/scene/scene_file_writer.py#607\" target=\"_blank\"><span style=\"color: #7f7f7f; text-decoration-color: #7f7f7f\">607</span></a>\n",
       "</pre>\n"
      ],
      "text/plain": [
       "\u001B[2;36m                   \u001B[0m\u001B[2;36m \u001B[0m\u001B[32mINFO    \u001B[0m Combining to Movie file.                                      \u001B]8;id=296136;file:///home/jacob/path-integration-memory/venv/lib/python3.8/site-packages/manim/scene/scene_file_writer.py\u001B\\\u001B[2mscene_file_writer.py\u001B[0m\u001B]8;;\u001B\\\u001B[2m:\u001B[0m\u001B]8;id=908012;file:///home/jacob/path-integration-memory/venv/lib/python3.8/site-packages/manim/scene/scene_file_writer.py#607\u001B\\\u001B[2m607\u001B[0m\u001B]8;;\u001B\\\n"
      ]
     },
     "metadata": {},
     "output_type": "display_data"
    },
    {
     "data": {
      "text/html": [
       "<pre style=\"white-space:pre;overflow-x:auto;line-height:normal;font-family:Menlo,'DejaVu Sans Mono',consolas,'Courier New',monospace\"><span style=\"color: #7fbfbf; text-decoration-color: #7fbfbf\">                    </span><span style=\"color: #008000; text-decoration-color: #008000\">INFO    </span>                                                               <a href=\"file:///home/jacob/path-integration-memory/venv/lib/python3.8/site-packages/manim/scene/scene_file_writer.py\" target=\"_blank\"><span style=\"color: #7f7f7f; text-decoration-color: #7f7f7f\">scene_file_writer.py</span></a><span style=\"color: #7f7f7f; text-decoration-color: #7f7f7f\">:</span><a href=\"file:///home/jacob/path-integration-memory/venv/lib/python3.8/site-packages/manim/scene/scene_file_writer.py#728\" target=\"_blank\"><span style=\"color: #7f7f7f; text-decoration-color: #7f7f7f\">728</span></a>\n",
       "<span style=\"color: #7fbfbf; text-decoration-color: #7fbfbf\">                    </span>         <span style=\"color: #808000; text-decoration-color: #808000; font-weight: bold\">File</span> ready at                                                 <span style=\"color: #7f7f7f; text-decoration-color: #7f7f7f\">                        </span>\n",
       "<span style=\"color: #7fbfbf; text-decoration-color: #7fbfbf\">                    </span>         <span style=\"color: #008000; text-decoration-color: #008000\">'/home/jacob/path-integration-memory/notebooks/media/videos/n</span> <span style=\"color: #7f7f7f; text-decoration-color: #7f7f7f\">                        </span>\n",
       "<span style=\"color: #7fbfbf; text-decoration-color: #7fbfbf\">                    </span>         <span style=\"color: #008000; text-decoration-color: #008000\">otebooks/1080p60/ParamSearch.mp4'</span>                             <span style=\"color: #7f7f7f; text-decoration-color: #7f7f7f\">                        </span>\n",
       "<span style=\"color: #7fbfbf; text-decoration-color: #7fbfbf\">                    </span>                                                                       <span style=\"color: #7f7f7f; text-decoration-color: #7f7f7f\">                        </span>\n",
       "</pre>\n"
      ],
      "text/plain": [
       "\u001B[2;36m                   \u001B[0m\u001B[2;36m \u001B[0m\u001B[32mINFO    \u001B[0m                                                               \u001B]8;id=279730;file:///home/jacob/path-integration-memory/venv/lib/python3.8/site-packages/manim/scene/scene_file_writer.py\u001B\\\u001B[2mscene_file_writer.py\u001B[0m\u001B]8;;\u001B\\\u001B[2m:\u001B[0m\u001B]8;id=325545;file:///home/jacob/path-integration-memory/venv/lib/python3.8/site-packages/manim/scene/scene_file_writer.py#728\u001B\\\u001B[2m728\u001B[0m\u001B]8;;\u001B\\\n",
       "\u001B[2;36m                    \u001B[0m         \u001B[1;33mFile\u001B[0m ready at                                                 \u001B[2m                        \u001B[0m\n",
       "\u001B[2;36m                    \u001B[0m         \u001B[32m'/home/jacob/path-integration-memory/notebooks/media/videos/n\u001B[0m \u001B[2m                        \u001B[0m\n",
       "\u001B[2;36m                    \u001B[0m         \u001B[32motebooks/1080p60/ParamSearch.mp4'\u001B[0m                             \u001B[2m                        \u001B[0m\n",
       "\u001B[2;36m                    \u001B[0m                                                                       \u001B[2m                        \u001B[0m\n"
      ]
     },
     "metadata": {},
     "output_type": "display_data"
    },
    {
     "data": {
      "text/html": [
       "<pre style=\"white-space:pre;overflow-x:auto;line-height:normal;font-family:Menlo,'DejaVu Sans Mono',consolas,'Courier New',monospace\"><span style=\"color: #7fbfbf; text-decoration-color: #7fbfbf\">                    </span><span style=\"color: #008000; text-decoration-color: #008000\">INFO    </span> <span style=\"color: #808000; text-decoration-color: #808000; font-weight: bold\">Rendered</span> ParamSearch                                                      <a href=\"file:///home/jacob/path-integration-memory/venv/lib/python3.8/site-packages/manim/scene/scene.py\" target=\"_blank\"><span style=\"color: #7f7f7f; text-decoration-color: #7f7f7f\">scene.py</span></a><span style=\"color: #7f7f7f; text-decoration-color: #7f7f7f\">:</span><a href=\"file:///home/jacob/path-integration-memory/venv/lib/python3.8/site-packages/manim/scene/scene.py#240\" target=\"_blank\"><span style=\"color: #7f7f7f; text-decoration-color: #7f7f7f\">240</span></a>\n",
       "<span style=\"color: #7fbfbf; text-decoration-color: #7fbfbf\">                    </span>         <span style=\"color: #808000; text-decoration-color: #808000; font-weight: bold\">Played</span> <span style=\"color: #008000; text-decoration-color: #008000\">5</span> <span style=\"color: #808000; text-decoration-color: #808000; font-weight: bold\">animations</span>                                                       <span style=\"color: #7f7f7f; text-decoration-color: #7f7f7f\">            </span>\n",
       "</pre>\n"
      ],
      "text/plain": [
       "\u001B[2;36m                   \u001B[0m\u001B[2;36m \u001B[0m\u001B[32mINFO    \u001B[0m \u001B[1;33mRendered\u001B[0m ParamSearch                                                      \u001B]8;id=549332;file:///home/jacob/path-integration-memory/venv/lib/python3.8/site-packages/manim/scene/scene.py\u001B\\\u001B[2mscene.py\u001B[0m\u001B]8;;\u001B\\\u001B[2m:\u001B[0m\u001B]8;id=995480;file:///home/jacob/path-integration-memory/venv/lib/python3.8/site-packages/manim/scene/scene.py#240\u001B\\\u001B[2m240\u001B[0m\u001B]8;;\u001B\\\n",
       "\u001B[2;36m                    \u001B[0m         \u001B[1;33mPlayed\u001B[0m \u001B[32m5\u001B[0m \u001B[1;33manimations\u001B[0m                                                       \u001B[2m            \u001B[0m\n"
      ]
     },
     "metadata": {},
     "output_type": "display_data"
    },
    {
     "name": "stderr",
     "output_type": "stream",
     "text": [
      "                                                                                                                                                                        \r"
     ]
    },
    {
     "data": {
      "text/html": [
       "<pre style=\"white-space:pre;overflow-x:auto;line-height:normal;font-family:Menlo,'DejaVu Sans Mono',consolas,'Courier New',monospace\"><span style=\"color: #7fbfbf; text-decoration-color: #7fbfbf\">                    </span><span style=\"color: #008000; text-decoration-color: #008000\">INFO    </span> Copied <span style=\"color: #008000; text-decoration-color: #008000\">5</span> <span style=\"color: #808000; text-decoration-color: #808000; font-weight: bold\">animations</span> to                                                    <a href=\"file:///home/jacob/path-integration-memory/venv/lib/python3.8/site-packages/manim_slides/slide.py\" target=\"_blank\"><span style=\"color: #7f7f7f; text-decoration-color: #7f7f7f\">slide.py</span></a><span style=\"color: #7f7f7f; text-decoration-color: #7f7f7f\">:</span><a href=\"file:///home/jacob/path-integration-memory/venv/lib/python3.8/site-packages/manim_slides/slide.py#174\" target=\"_blank\"><span style=\"color: #7f7f7f; text-decoration-color: #7f7f7f\">174</span></a>\n",
       "<span style=\"color: #7fbfbf; text-decoration-color: #7fbfbf\">                    </span>         <span style=\"color: #008000; text-decoration-color: #008000\">'/home/jacob/path-integration-memory/notebooks/slides/files/ParamSearch'</span>  <span style=\"color: #7f7f7f; text-decoration-color: #7f7f7f\">            </span>\n",
       "<span style=\"color: #7fbfbf; text-decoration-color: #7fbfbf\">                    </span>         and generated reversed <span style=\"color: #808000; text-decoration-color: #808000; font-weight: bold\">animations</span>                                         <span style=\"color: #7f7f7f; text-decoration-color: #7f7f7f\">            </span>\n",
       "</pre>\n"
      ],
      "text/plain": [
       "\u001B[2;36m                   \u001B[0m\u001B[2;36m \u001B[0m\u001B[32mINFO    \u001B[0m Copied \u001B[32m5\u001B[0m \u001B[1;33manimations\u001B[0m to                                                    \u001B]8;id=859298;file:///home/jacob/path-integration-memory/venv/lib/python3.8/site-packages/manim_slides/slide.py\u001B\\\u001B[2mslide.py\u001B[0m\u001B]8;;\u001B\\\u001B[2m:\u001B[0m\u001B]8;id=10193;file:///home/jacob/path-integration-memory/venv/lib/python3.8/site-packages/manim_slides/slide.py#174\u001B\\\u001B[2m174\u001B[0m\u001B]8;;\u001B\\\n",
       "\u001B[2;36m                    \u001B[0m         \u001B[32m'/home/jacob/path-integration-memory/notebooks/slides/files/ParamSearch'\u001B[0m  \u001B[2m            \u001B[0m\n",
       "\u001B[2;36m                    \u001B[0m         and generated reversed \u001B[1;33manimations\u001B[0m                                         \u001B[2m            \u001B[0m\n"
      ]
     },
     "metadata": {},
     "output_type": "display_data"
    },
    {
     "data": {
      "text/html": [
       "<pre style=\"white-space:pre;overflow-x:auto;line-height:normal;font-family:Menlo,'DejaVu Sans Mono',consolas,'Courier New',monospace\"><span style=\"color: #7fbfbf; text-decoration-color: #7fbfbf\">                    </span><span style=\"color: #008000; text-decoration-color: #008000\">INFO    </span> Slide <span style=\"color: #008000; text-decoration-color: #008000\">'ParamSearch'</span> configuration written in                              <a href=\"file:///home/jacob/path-integration-memory/venv/lib/python3.8/site-packages/manim_slides/slide.py\" target=\"_blank\"><span style=\"color: #7f7f7f; text-decoration-color: #7f7f7f\">slide.py</span></a><span style=\"color: #7f7f7f; text-decoration-color: #7f7f7f\">:</span><a href=\"file:///home/jacob/path-integration-memory/venv/lib/python3.8/site-packages/manim_slides/slide.py#183\" target=\"_blank\"><span style=\"color: #7f7f7f; text-decoration-color: #7f7f7f\">183</span></a>\n",
       "<span style=\"color: #7fbfbf; text-decoration-color: #7fbfbf\">                    </span>         <span style=\"color: #008000; text-decoration-color: #008000\">'/home/jacob/path-integration-memory/notebooks/slides/ParamSearch.json'</span>   <span style=\"color: #7f7f7f; text-decoration-color: #7f7f7f\">            </span>\n",
       "</pre>\n"
      ],
      "text/plain": [
       "\u001B[2;36m                   \u001B[0m\u001B[2;36m \u001B[0m\u001B[32mINFO    \u001B[0m Slide \u001B[32m'ParamSearch'\u001B[0m configuration written in                              \u001B]8;id=868517;file:///home/jacob/path-integration-memory/venv/lib/python3.8/site-packages/manim_slides/slide.py\u001B\\\u001B[2mslide.py\u001B[0m\u001B]8;;\u001B\\\u001B[2m:\u001B[0m\u001B]8;id=894338;file:///home/jacob/path-integration-memory/venv/lib/python3.8/site-packages/manim_slides/slide.py#183\u001B\\\u001B[2m183\u001B[0m\u001B]8;;\u001B\\\n",
       "\u001B[2;36m                    \u001B[0m         \u001B[32m'/home/jacob/path-integration-memory/notebooks/slides/ParamSearch.json'\u001B[0m   \u001B[2m            \u001B[0m\n"
      ]
     },
     "metadata": {},
     "output_type": "display_data"
    },
    {
     "data": {
      "text/html": [
       "<video src=\"media/jupyter/ParamSearch@2022-11-30@16-35-28.mp4\" controls autoplay loop style=\"max-width: 60%;\"  >\n",
       "      Your browser does not support the <code>video</code> element.\n",
       "    </video>"
      ],
      "text/plain": [
       "<IPython.core.display.Video object>"
      ]
     },
     "metadata": {},
     "output_type": "display_data"
    }
   ],
   "source": [
    "%%manim ParamSearch\n",
    "\n",
    "class ParamSearch(Slide):\n",
    "    def construct(self):\n",
    "        \n",
    "        img = ImageMobject(\"./images/phi-beta-epsilon.jpg\").move_to([0,0,0])\n",
    "        img.height = 8\n",
    "#         box = BackgroundRectangle(img, color=WHITE)\n",
    "\n",
    "        range1 = MathTex(\"10^{-4} < l[cm] < 10^{-3}  \")\n",
    "        range2 = MathTex(\"10^4 < \\epsilon_{max} [M^{-1}cm^{-1}] < 10^5\").next_to(range1,DOWN)\n",
    "        rGroup = Group(range1,range2).scale(0.7).shift(RIGHT*4.5+UP*2)\n",
    "        \n",
    "        t1 = Tex(\"$\\epsilon \\cdot l \\\\approx 15$\").shift(RIGHT*4+UP)\n",
    "        t2 = Tex(\"$\\phi \\\\approx 0.0003$\").shift(RIGHT*4)\n",
    "        t3 = Tex(\"$\\\\beta \\\\approx 0.3$\").shift(RIGHT*4+DOWN)\n",
    "        \n",
    "        tGroup = Group(t1,t2,t3).shift(DOWN*1.5+RIGHT*0.5)\n",
    "        \n",
    "        self.play(FadeIn(img))\n",
    "        \n",
    "        self.pause()\n",
    "        self.play(img.animate.shift(LEFT*2.6))\n",
    "        \n",
    "        self.play(Write(range1),Write(range2))\n",
    "        self.play(Write(t1),Write(t2),Write(t3))\n",
    "        \n",
    "        self.pause()\n",
    "        self.wait(0.1)"
   ]
  },
  {
   "cell_type": "code",
   "execution_count": null,
   "id": "9efc8cdd",
   "metadata": {},
   "outputs": [],
   "source": [
    "%%manim Improvements\n",
    "\n",
    "class Improvements(Slide):\n",
    "    def construct(self):\n",
    "        \n",
    "        title = Title(r\"Improvements\").set_z_index(100)\n",
    "        \n",
    "        blist = BulletedList(\"Variable background activity\", \"Amplification layer\")\n",
    "\n",
    "        self.play(Write(title))\n",
    "        self.play(Write(blist))\n",
    "        \n",
    "        self.pause()\n",
    "        self.wait(0.1)"
   ]
  },
  {
   "cell_type": "code",
   "execution_count": null,
   "id": "935ba47e",
   "metadata": {},
   "outputs": [],
   "source": [
    "%%manim BasicPath\n",
    "\n",
    "with open('./ideas/positions_basic.json', 'r') as f:\n",
    "    path = json.load(f)\n",
    "    path = np.array([[-p[0],p[1],0.0] for p in path])*0.018+0.1\n",
    "    f = interp1d(np.linspace(0,1,3001), path, axis=0)\n",
    "\n",
    "class BasicPath(Slide, MovingCameraScene):\n",
    "    def construct(self):\n",
    "        \n",
    "        def update_bee(bee, dt):\n",
    "            new_pos = f(tracker.get_value())\n",
    "            tsub1 = f(np.maximum(0, tracker2.get_value()))\n",
    "            \n",
    "            diff = new_pos-tsub1\n",
    "            angle = np.arctan2(diff[1], diff[0])\n",
    "            bee.points = bee.original_points.copy()\n",
    "                \n",
    "            bee.rotate(angle-PI/2)\n",
    "            bee.move_to(new_pos)\n",
    "            \n",
    "            tracker2.set_value(tracker.get_value())\n",
    "            \n",
    "        title = Title(r\"Example path: Basic dye model\").set_z_index(100).shift(UP*3+RIGHT*5)\n",
    "        \n",
    "        outbound = ParametricFunction(f, t_range=[0,0.5], color=BLUE)\n",
    "        inbound = ParametricFunction(f, t_range=[0.5,1], color=ORANGE)\n",
    "        \n",
    "        outbound2 = ParametricFunction(f, t_range=[0,0.5], color=BLUE)\n",
    "        \n",
    "        label1 = Text(\"Outbound\").move_to([10,5,0])\n",
    "        line1 = Line([0,0,0],[1,0,0],color=BLUE,stroke_width=10).next_to(label1,LEFT)\n",
    "        label2 = Text(\"Inbound\").next_to(label1,DOWN)\n",
    "        line2 = Line([0,0,0],[1,0,0],color=ORANGE,stroke_width=10).next_to(label2,LEFT)\n",
    "        \n",
    "        tracker = ValueTracker(0)\n",
    "        tracker2 = ValueTracker(0)\n",
    "        \n",
    "        bee = ImageMobject(\"./images/bee_lowres.png\").add_updater(update_bee).set_z_index(10)\n",
    "        bee.height=0.2\n",
    "        bee.original_points = bee.points.copy()\n",
    "        nest = ImageMobject(\"./images/branch.png\").rotate(PI / 4)\n",
    "        nest.move_to([-0.7,0.1,0])\n",
    "        nest.height = 2\n",
    "        \n",
    "    \n",
    "        \n",
    "        self.camera.frame.move_to([5,3,0]) \n",
    "        self.play(Write(title))\n",
    "        self.add(tracker,tracker2)\n",
    "        \n",
    "        self.play(\n",
    "            Write(label1),\n",
    "            Write(label2),\n",
    "            Create(line1),\n",
    "            Create(line2),\n",
    "        )\n",
    "        self.pause()\n",
    "        self.play(FadeIn(nest))\n",
    "        self.add(bee)\n",
    "        self.play(\n",
    "            Create(outbound),\n",
    "            tracker.animate.set_value(0.5),\n",
    "            run_time=3\n",
    "        )\n",
    "        self.pause()\n",
    "        self.play(\n",
    "            Create(inbound),\n",
    "            tracker.animate.set_value(1),\n",
    "            run_time=2,\n",
    "        )\n",
    "        \n",
    "        self.pause()\n",
    "        self.wait(0.1)"
   ]
  },
  {
   "cell_type": "code",
   "execution_count": null,
   "id": "193f61e5",
   "metadata": {},
   "outputs": [],
   "source": [
    "%%manim AmpPath\n",
    "\n",
    "with open('./ideas/positions_amp.json', 'r') as f:\n",
    "    path = json.load(f)\n",
    "    path = np.array([[-p[0],p[1],0.0] for p in path])*0.018+0.1\n",
    "    f = interp1d(np.linspace(0,1,3001), path, axis=0)\n",
    "\n",
    "class AmpPath(Slide, MovingCameraScene):\n",
    "    def construct(self):\n",
    "        \n",
    "        def update_bee(bee, dt):\n",
    "            new_pos = f(tracker.get_value())\n",
    "            tsub1 = f(np.maximum(0, tracker2.get_value()))\n",
    "            \n",
    "            diff = new_pos-tsub1\n",
    "            angle = np.arctan2(diff[1], diff[0])\n",
    "            bee.points = bee.original_points.copy()\n",
    "                \n",
    "            bee.rotate(angle-PI/2)\n",
    "            bee.move_to(new_pos)\n",
    "            \n",
    "            tracker2.set_value(tracker.get_value())\n",
    "            \n",
    "        title = Title(r\"Example path: Amplification layer\").set_z_index(100).shift(UP*3+RIGHT*5)\n",
    "        \n",
    "        outbound = ParametricFunction(f, t_range=[0,0.5], color=BLUE)\n",
    "        inbound = ParametricFunction(f, t_range=[0.5,1], color=ORANGE)\n",
    "        \n",
    "        outbound2 = ParametricFunction(f, t_range=[0,0.5], color=BLUE)\n",
    "        \n",
    "        label1 = Text(\"Outbound\").move_to([10,5,0])\n",
    "        line1 = Line([0,0,0],[1,0,0],color=BLUE,stroke_width=10).next_to(label1,LEFT)\n",
    "        label2 = Text(\"Inbound\").next_to(label1,DOWN)\n",
    "        line2 = Line([0,0,0],[1,0,0],color=ORANGE,stroke_width=10).next_to(label2,LEFT)\n",
    "        \n",
    "        tracker = ValueTracker(0)\n",
    "        tracker2 = ValueTracker(0)\n",
    "        \n",
    "        bee = ImageMobject(\"./images/bee_lowres.png\").add_updater(update_bee).set_z_index(10)\n",
    "        bee.height=0.2\n",
    "        bee.original_points = bee.points.copy()\n",
    "        nest = ImageMobject(\"./images/branch.png\").rotate(PI / 4)\n",
    "        nest.move_to([-0.7,0.1,0])\n",
    "        nest.height = 2\n",
    "        \n",
    "    \n",
    "        \n",
    "        self.camera.frame.move_to([5,3,0]) \n",
    "        self.play(Write(title))\n",
    "        self.add(tracker,tracker2)\n",
    "        \n",
    "        self.play(\n",
    "            Write(label1),\n",
    "            Write(label2),\n",
    "            Create(line1),\n",
    "            Create(line2),\n",
    "        )\n",
    "        self.pause()\n",
    "        self.play(FadeIn(nest))\n",
    "        self.add(bee)\n",
    "        self.play(\n",
    "            Create(outbound),\n",
    "            tracker.animate.set_value(0.5),\n",
    "            run_time=3\n",
    "        )\n",
    "        self.pause()\n",
    "        self.play(\n",
    "            Create(inbound),\n",
    "            tracker.animate.set_value(1),\n",
    "            run_time=2,\n",
    "        )\n",
    "        \n",
    "        self.pause()\n",
    "        self.wait(0.1)"
   ]
  },
  {
   "cell_type": "code",
   "execution_count": null,
   "id": "4e6dab38",
   "metadata": {},
   "outputs": [],
   "source": [
    "%%manim IntroduceModels\n",
    "\n",
    "class IntroduceModels(Slide):\n",
    "    def construct(self):\n",
    "        \n",
    "        def create_group(label,text,color=BLUE):\n",
    "            l = Text(label, color=color)\n",
    "            l.font_size = 50\n",
    "            t = Text(text).next_to(l,DOWN)\n",
    "            t.font_size = 30\n",
    "            return Group(l,t)\n",
    "        \n",
    "        g1 = create_group(\"stone\",\"Benchmark model from Stone\")\n",
    "        g2 = create_group(\"weights\",\"Conceptual synaptic weight model\",GREEN)\n",
    "        g3 = create_group(\"dye basic\",\"Basic version of our dye model\",RED)\n",
    "        g4 = create_group(\"dye var beta\",\"Model with variable background activity\",RED)\n",
    "        g5 = create_group(\"dye amp\",\"Model with amplification layer\",RED)\n",
    "        g6 = create_group(\"dye var beta + amp\",\"Model with amplification layer\",RED)\n",
    "        \n",
    "        self.play(FadeIn(g1))\n",
    "        self.pause()\n",
    "        self.play(AnimationGroup(g1.animate.move_to([-4,3,0]).scale(0.7)))\n",
    "        self.play(FadeIn(g2))\n",
    "        self.pause()\n",
    "        self.play(AnimationGroup(g2.animate.move_to([4,3,0]).scale(0.7)))\n",
    "        self.play(FadeIn(g3))\n",
    "        self.pause()\n",
    "        self.play(AnimationGroup(g3.animate.move_to([0,1,0]).scale(0.7)))\n",
    "        self.play(FadeIn(g4))\n",
    "        self.pause()\n",
    "        self.play(AnimationGroup(g4.animate.move_to([-4,-1,0]).scale(0.7)))\n",
    "        self.play(FadeIn(g5))\n",
    "        self.pause()\n",
    "        self.play(AnimationGroup(g5.animate.move_to([4,-1,0]).scale(0.7)))\n",
    "        self.play(FadeIn(g6))\n",
    "        self.pause()\n",
    "        self.play(AnimationGroup(g6.animate.move_to([0,-3,0]).scale(0.7)))\n",
    "        \n",
    "        self.pause()\n",
    "        self.wait(0.1)"
   ]
  },
  {
   "cell_type": "code",
   "execution_count": 2,
   "id": "ba2dfec7",
   "metadata": {},
   "outputs": [
    {
     "name": "stderr",
     "output_type": "stream",
     "text": [
      "                                                                                                                                                                        \r"
     ]
    },
    {
     "data": {
      "text/html": [
       "<pre style=\"white-space:pre;overflow-x:auto;line-height:normal;font-family:Menlo,'DejaVu Sans Mono',consolas,'Courier New',monospace\"><span style=\"color: #7fbfbf; text-decoration-color: #7fbfbf\">[11/30/22 16:33:15] </span><span style=\"color: #008000; text-decoration-color: #008000\">INFO    </span> Animation <span style=\"color: #008000; text-decoration-color: #008000\">0</span> : Partial movie file written in                   <a href=\"file:///home/jacob/path-integration-memory/venv/lib/python3.8/site-packages/manim/scene/scene_file_writer.py\" target=\"_blank\"><span style=\"color: #7f7f7f; text-decoration-color: #7f7f7f\">scene_file_writer.py</span></a><span style=\"color: #7f7f7f; text-decoration-color: #7f7f7f\">:</span><a href=\"file:///home/jacob/path-integration-memory/venv/lib/python3.8/site-packages/manim/scene/scene_file_writer.py#514\" target=\"_blank\"><span style=\"color: #7f7f7f; text-decoration-color: #7f7f7f\">514</span></a>\n",
       "<span style=\"color: #7fbfbf; text-decoration-color: #7fbfbf\">                    </span>         <span style=\"color: #008000; text-decoration-color: #008000\">'/home/jacob/path-integration-memory/notebooks/media/videos/n</span> <span style=\"color: #7f7f7f; text-decoration-color: #7f7f7f\">                        </span>\n",
       "<span style=\"color: #7fbfbf; text-decoration-color: #7fbfbf\">                    </span>         <span style=\"color: #008000; text-decoration-color: #008000\">otebooks/1080p60/partial_movie_files/ModelsResult/450974505_6</span> <span style=\"color: #7f7f7f; text-decoration-color: #7f7f7f\">                        </span>\n",
       "<span style=\"color: #7fbfbf; text-decoration-color: #7fbfbf\">                    </span>         <span style=\"color: #008000; text-decoration-color: #008000\">22393074_223132457.mp4'</span>                                       <span style=\"color: #7f7f7f; text-decoration-color: #7f7f7f\">                        </span>\n",
       "</pre>\n"
      ],
      "text/plain": [
       "\u001B[2;36m[11/30/22 16:33:15]\u001B[0m\u001B[2;36m \u001B[0m\u001B[32mINFO    \u001B[0m Animation \u001B[32m0\u001B[0m : Partial movie file written in                   \u001B]8;id=255107;file:///home/jacob/path-integration-memory/venv/lib/python3.8/site-packages/manim/scene/scene_file_writer.py\u001B\\\u001B[2mscene_file_writer.py\u001B[0m\u001B]8;;\u001B\\\u001B[2m:\u001B[0m\u001B]8;id=516918;file:///home/jacob/path-integration-memory/venv/lib/python3.8/site-packages/manim/scene/scene_file_writer.py#514\u001B\\\u001B[2m514\u001B[0m\u001B]8;;\u001B\\\n",
       "\u001B[2;36m                    \u001B[0m         \u001B[32m'/home/jacob/path-integration-memory/notebooks/media/videos/n\u001B[0m \u001B[2m                        \u001B[0m\n",
       "\u001B[2;36m                    \u001B[0m         \u001B[32motebooks/1080p60/partial_movie_files/ModelsResult/450974505_6\u001B[0m \u001B[2m                        \u001B[0m\n",
       "\u001B[2;36m                    \u001B[0m         \u001B[32m22393074_223132457.mp4'\u001B[0m                                       \u001B[2m                        \u001B[0m\n"
      ]
     },
     "metadata": {},
     "output_type": "display_data"
    },
    {
     "data": {
      "text/html": [
       "<pre style=\"white-space:pre;overflow-x:auto;line-height:normal;font-family:Menlo,'DejaVu Sans Mono',consolas,'Courier New',monospace\"><span style=\"color: #7fbfbf; text-decoration-color: #7fbfbf\">[11/30/22 16:33:16] </span><span style=\"color: #008000; text-decoration-color: #008000\">INFO    </span> Animation <span style=\"color: #008000; text-decoration-color: #008000\">1</span> : Partial movie file written in                   <a href=\"file:///home/jacob/path-integration-memory/venv/lib/python3.8/site-packages/manim/scene/scene_file_writer.py\" target=\"_blank\"><span style=\"color: #7f7f7f; text-decoration-color: #7f7f7f\">scene_file_writer.py</span></a><span style=\"color: #7f7f7f; text-decoration-color: #7f7f7f\">:</span><a href=\"file:///home/jacob/path-integration-memory/venv/lib/python3.8/site-packages/manim/scene/scene_file_writer.py#514\" target=\"_blank\"><span style=\"color: #7f7f7f; text-decoration-color: #7f7f7f\">514</span></a>\n",
       "<span style=\"color: #7fbfbf; text-decoration-color: #7fbfbf\">                    </span>         <span style=\"color: #008000; text-decoration-color: #008000\">'/home/jacob/path-integration-memory/notebooks/media/videos/n</span> <span style=\"color: #7f7f7f; text-decoration-color: #7f7f7f\">                        </span>\n",
       "<span style=\"color: #7fbfbf; text-decoration-color: #7fbfbf\">                    </span>         <span style=\"color: #008000; text-decoration-color: #008000\">otebooks/1080p60/partial_movie_files/ModelsResult/34786186_34</span> <span style=\"color: #7f7f7f; text-decoration-color: #7f7f7f\">                        </span>\n",
       "<span style=\"color: #7fbfbf; text-decoration-color: #7fbfbf\">                    </span>         <span style=\"color: #008000; text-decoration-color: #008000\">09719442_160347518.mp4'</span>                                       <span style=\"color: #7f7f7f; text-decoration-color: #7f7f7f\">                        </span>\n",
       "</pre>\n"
      ],
      "text/plain": [
       "\u001B[2;36m[11/30/22 16:33:16]\u001B[0m\u001B[2;36m \u001B[0m\u001B[32mINFO    \u001B[0m Animation \u001B[32m1\u001B[0m : Partial movie file written in                   \u001B]8;id=350764;file:///home/jacob/path-integration-memory/venv/lib/python3.8/site-packages/manim/scene/scene_file_writer.py\u001B\\\u001B[2mscene_file_writer.py\u001B[0m\u001B]8;;\u001B\\\u001B[2m:\u001B[0m\u001B]8;id=785218;file:///home/jacob/path-integration-memory/venv/lib/python3.8/site-packages/manim/scene/scene_file_writer.py#514\u001B\\\u001B[2m514\u001B[0m\u001B]8;;\u001B\\\n",
       "\u001B[2;36m                    \u001B[0m         \u001B[32m'/home/jacob/path-integration-memory/notebooks/media/videos/n\u001B[0m \u001B[2m                        \u001B[0m\n",
       "\u001B[2;36m                    \u001B[0m         \u001B[32motebooks/1080p60/partial_movie_files/ModelsResult/34786186_34\u001B[0m \u001B[2m                        \u001B[0m\n",
       "\u001B[2;36m                    \u001B[0m         \u001B[32m09719442_160347518.mp4'\u001B[0m                                       \u001B[2m                        \u001B[0m\n"
      ]
     },
     "metadata": {},
     "output_type": "display_data"
    },
    {
     "data": {
      "text/html": [
       "<pre style=\"white-space:pre;overflow-x:auto;line-height:normal;font-family:Menlo,'DejaVu Sans Mono',consolas,'Courier New',monospace\"><span style=\"color: #7fbfbf; text-decoration-color: #7fbfbf\">                    </span><span style=\"color: #008000; text-decoration-color: #008000\">INFO    </span> Combining to Movie file.                                      <a href=\"file:///home/jacob/path-integration-memory/venv/lib/python3.8/site-packages/manim/scene/scene_file_writer.py\" target=\"_blank\"><span style=\"color: #7f7f7f; text-decoration-color: #7f7f7f\">scene_file_writer.py</span></a><span style=\"color: #7f7f7f; text-decoration-color: #7f7f7f\">:</span><a href=\"file:///home/jacob/path-integration-memory/venv/lib/python3.8/site-packages/manim/scene/scene_file_writer.py#607\" target=\"_blank\"><span style=\"color: #7f7f7f; text-decoration-color: #7f7f7f\">607</span></a>\n",
       "</pre>\n"
      ],
      "text/plain": [
       "\u001B[2;36m                   \u001B[0m\u001B[2;36m \u001B[0m\u001B[32mINFO    \u001B[0m Combining to Movie file.                                      \u001B]8;id=52666;file:///home/jacob/path-integration-memory/venv/lib/python3.8/site-packages/manim/scene/scene_file_writer.py\u001B\\\u001B[2mscene_file_writer.py\u001B[0m\u001B]8;;\u001B\\\u001B[2m:\u001B[0m\u001B]8;id=514764;file:///home/jacob/path-integration-memory/venv/lib/python3.8/site-packages/manim/scene/scene_file_writer.py#607\u001B\\\u001B[2m607\u001B[0m\u001B]8;;\u001B\\\n"
      ]
     },
     "metadata": {},
     "output_type": "display_data"
    },
    {
     "data": {
      "text/html": [
       "<pre style=\"white-space:pre;overflow-x:auto;line-height:normal;font-family:Menlo,'DejaVu Sans Mono',consolas,'Courier New',monospace\"><span style=\"color: #7fbfbf; text-decoration-color: #7fbfbf\">                    </span><span style=\"color: #008000; text-decoration-color: #008000\">INFO    </span>                                                               <a href=\"file:///home/jacob/path-integration-memory/venv/lib/python3.8/site-packages/manim/scene/scene_file_writer.py\" target=\"_blank\"><span style=\"color: #7f7f7f; text-decoration-color: #7f7f7f\">scene_file_writer.py</span></a><span style=\"color: #7f7f7f; text-decoration-color: #7f7f7f\">:</span><a href=\"file:///home/jacob/path-integration-memory/venv/lib/python3.8/site-packages/manim/scene/scene_file_writer.py#728\" target=\"_blank\"><span style=\"color: #7f7f7f; text-decoration-color: #7f7f7f\">728</span></a>\n",
       "<span style=\"color: #7fbfbf; text-decoration-color: #7fbfbf\">                    </span>         <span style=\"color: #808000; text-decoration-color: #808000; font-weight: bold\">File</span> ready at                                                 <span style=\"color: #7f7f7f; text-decoration-color: #7f7f7f\">                        </span>\n",
       "<span style=\"color: #7fbfbf; text-decoration-color: #7fbfbf\">                    </span>         <span style=\"color: #008000; text-decoration-color: #008000\">'/home/jacob/path-integration-memory/notebooks/media/videos/n</span> <span style=\"color: #7f7f7f; text-decoration-color: #7f7f7f\">                        </span>\n",
       "<span style=\"color: #7fbfbf; text-decoration-color: #7fbfbf\">                    </span>         <span style=\"color: #008000; text-decoration-color: #008000\">otebooks/1080p60/ModelsResult.mp4'</span>                            <span style=\"color: #7f7f7f; text-decoration-color: #7f7f7f\">                        </span>\n",
       "<span style=\"color: #7fbfbf; text-decoration-color: #7fbfbf\">                    </span>                                                                       <span style=\"color: #7f7f7f; text-decoration-color: #7f7f7f\">                        </span>\n",
       "</pre>\n"
      ],
      "text/plain": [
       "\u001B[2;36m                   \u001B[0m\u001B[2;36m \u001B[0m\u001B[32mINFO    \u001B[0m                                                               \u001B]8;id=834166;file:///home/jacob/path-integration-memory/venv/lib/python3.8/site-packages/manim/scene/scene_file_writer.py\u001B\\\u001B[2mscene_file_writer.py\u001B[0m\u001B]8;;\u001B\\\u001B[2m:\u001B[0m\u001B]8;id=105165;file:///home/jacob/path-integration-memory/venv/lib/python3.8/site-packages/manim/scene/scene_file_writer.py#728\u001B\\\u001B[2m728\u001B[0m\u001B]8;;\u001B\\\n",
       "\u001B[2;36m                    \u001B[0m         \u001B[1;33mFile\u001B[0m ready at                                                 \u001B[2m                        \u001B[0m\n",
       "\u001B[2;36m                    \u001B[0m         \u001B[32m'/home/jacob/path-integration-memory/notebooks/media/videos/n\u001B[0m \u001B[2m                        \u001B[0m\n",
       "\u001B[2;36m                    \u001B[0m         \u001B[32motebooks/1080p60/ModelsResult.mp4'\u001B[0m                            \u001B[2m                        \u001B[0m\n",
       "\u001B[2;36m                    \u001B[0m                                                                       \u001B[2m                        \u001B[0m\n"
      ]
     },
     "metadata": {},
     "output_type": "display_data"
    },
    {
     "data": {
      "text/html": [
       "<pre style=\"white-space:pre;overflow-x:auto;line-height:normal;font-family:Menlo,'DejaVu Sans Mono',consolas,'Courier New',monospace\"><span style=\"color: #7fbfbf; text-decoration-color: #7fbfbf\">                    </span><span style=\"color: #008000; text-decoration-color: #008000\">INFO    </span> <span style=\"color: #808000; text-decoration-color: #808000; font-weight: bold\">Rendered</span> ModelsResult                                                     <a href=\"file:///home/jacob/path-integration-memory/venv/lib/python3.8/site-packages/manim/scene/scene.py\" target=\"_blank\"><span style=\"color: #7f7f7f; text-decoration-color: #7f7f7f\">scene.py</span></a><span style=\"color: #7f7f7f; text-decoration-color: #7f7f7f\">:</span><a href=\"file:///home/jacob/path-integration-memory/venv/lib/python3.8/site-packages/manim/scene/scene.py#240\" target=\"_blank\"><span style=\"color: #7f7f7f; text-decoration-color: #7f7f7f\">240</span></a>\n",
       "<span style=\"color: #7fbfbf; text-decoration-color: #7fbfbf\">                    </span>         <span style=\"color: #808000; text-decoration-color: #808000; font-weight: bold\">Played</span> <span style=\"color: #008000; text-decoration-color: #008000\">2</span> <span style=\"color: #808000; text-decoration-color: #808000; font-weight: bold\">animations</span>                                                       <span style=\"color: #7f7f7f; text-decoration-color: #7f7f7f\">            </span>\n",
       "</pre>\n"
      ],
      "text/plain": [
       "\u001B[2;36m                   \u001B[0m\u001B[2;36m \u001B[0m\u001B[32mINFO    \u001B[0m \u001B[1;33mRendered\u001B[0m ModelsResult                                                     \u001B]8;id=956700;file:///home/jacob/path-integration-memory/venv/lib/python3.8/site-packages/manim/scene/scene.py\u001B\\\u001B[2mscene.py\u001B[0m\u001B]8;;\u001B\\\u001B[2m:\u001B[0m\u001B]8;id=50279;file:///home/jacob/path-integration-memory/venv/lib/python3.8/site-packages/manim/scene/scene.py#240\u001B\\\u001B[2m240\u001B[0m\u001B]8;;\u001B\\\n",
       "\u001B[2;36m                    \u001B[0m         \u001B[1;33mPlayed\u001B[0m \u001B[32m2\u001B[0m \u001B[1;33manimations\u001B[0m                                                       \u001B[2m            \u001B[0m\n"
      ]
     },
     "metadata": {},
     "output_type": "display_data"
    },
    {
     "name": "stderr",
     "output_type": "stream",
     "text": [
      "                                                                                                                                                                        \r"
     ]
    },
    {
     "data": {
      "text/html": [
       "<pre style=\"white-space:pre;overflow-x:auto;line-height:normal;font-family:Menlo,'DejaVu Sans Mono',consolas,'Courier New',monospace\"><span style=\"color: #7fbfbf; text-decoration-color: #7fbfbf\">                    </span><span style=\"color: #008000; text-decoration-color: #008000\">INFO    </span> Copied <span style=\"color: #008000; text-decoration-color: #008000\">2</span> <span style=\"color: #808000; text-decoration-color: #808000; font-weight: bold\">animations</span> to                                                    <a href=\"file:///home/jacob/path-integration-memory/venv/lib/python3.8/site-packages/manim_slides/slide.py\" target=\"_blank\"><span style=\"color: #7f7f7f; text-decoration-color: #7f7f7f\">slide.py</span></a><span style=\"color: #7f7f7f; text-decoration-color: #7f7f7f\">:</span><a href=\"file:///home/jacob/path-integration-memory/venv/lib/python3.8/site-packages/manim_slides/slide.py#174\" target=\"_blank\"><span style=\"color: #7f7f7f; text-decoration-color: #7f7f7f\">174</span></a>\n",
       "<span style=\"color: #7fbfbf; text-decoration-color: #7fbfbf\">                    </span>         <span style=\"color: #008000; text-decoration-color: #008000\">'/home/jacob/path-integration-memory/notebooks/slides/files/ModelsResult'</span> <span style=\"color: #7f7f7f; text-decoration-color: #7f7f7f\">            </span>\n",
       "<span style=\"color: #7fbfbf; text-decoration-color: #7fbfbf\">                    </span>         and generated reversed <span style=\"color: #808000; text-decoration-color: #808000; font-weight: bold\">animations</span>                                         <span style=\"color: #7f7f7f; text-decoration-color: #7f7f7f\">            </span>\n",
       "</pre>\n"
      ],
      "text/plain": [
       "\u001B[2;36m                   \u001B[0m\u001B[2;36m \u001B[0m\u001B[32mINFO    \u001B[0m Copied \u001B[32m2\u001B[0m \u001B[1;33manimations\u001B[0m to                                                    \u001B]8;id=686586;file:///home/jacob/path-integration-memory/venv/lib/python3.8/site-packages/manim_slides/slide.py\u001B\\\u001B[2mslide.py\u001B[0m\u001B]8;;\u001B\\\u001B[2m:\u001B[0m\u001B]8;id=895105;file:///home/jacob/path-integration-memory/venv/lib/python3.8/site-packages/manim_slides/slide.py#174\u001B\\\u001B[2m174\u001B[0m\u001B]8;;\u001B\\\n",
       "\u001B[2;36m                    \u001B[0m         \u001B[32m'/home/jacob/path-integration-memory/notebooks/slides/files/ModelsResult'\u001B[0m \u001B[2m            \u001B[0m\n",
       "\u001B[2;36m                    \u001B[0m         and generated reversed \u001B[1;33manimations\u001B[0m                                         \u001B[2m            \u001B[0m\n"
      ]
     },
     "metadata": {},
     "output_type": "display_data"
    },
    {
     "data": {
      "text/html": [
       "<pre style=\"white-space:pre;overflow-x:auto;line-height:normal;font-family:Menlo,'DejaVu Sans Mono',consolas,'Courier New',monospace\"><span style=\"color: #7fbfbf; text-decoration-color: #7fbfbf\">                    </span><span style=\"color: #008000; text-decoration-color: #008000\">INFO    </span> Slide <span style=\"color: #008000; text-decoration-color: #008000\">'ModelsResult'</span> configuration written in                             <a href=\"file:///home/jacob/path-integration-memory/venv/lib/python3.8/site-packages/manim_slides/slide.py\" target=\"_blank\"><span style=\"color: #7f7f7f; text-decoration-color: #7f7f7f\">slide.py</span></a><span style=\"color: #7f7f7f; text-decoration-color: #7f7f7f\">:</span><a href=\"file:///home/jacob/path-integration-memory/venv/lib/python3.8/site-packages/manim_slides/slide.py#183\" target=\"_blank\"><span style=\"color: #7f7f7f; text-decoration-color: #7f7f7f\">183</span></a>\n",
       "<span style=\"color: #7fbfbf; text-decoration-color: #7fbfbf\">                    </span>         <span style=\"color: #008000; text-decoration-color: #008000\">'/home/jacob/path-integration-memory/notebooks/slides/ModelsResult.json'</span>  <span style=\"color: #7f7f7f; text-decoration-color: #7f7f7f\">            </span>\n",
       "</pre>\n"
      ],
      "text/plain": [
       "\u001B[2;36m                   \u001B[0m\u001B[2;36m \u001B[0m\u001B[32mINFO    \u001B[0m Slide \u001B[32m'ModelsResult'\u001B[0m configuration written in                             \u001B]8;id=306467;file:///home/jacob/path-integration-memory/venv/lib/python3.8/site-packages/manim_slides/slide.py\u001B\\\u001B[2mslide.py\u001B[0m\u001B]8;;\u001B\\\u001B[2m:\u001B[0m\u001B]8;id=478063;file:///home/jacob/path-integration-memory/venv/lib/python3.8/site-packages/manim_slides/slide.py#183\u001B\\\u001B[2m183\u001B[0m\u001B]8;;\u001B\\\n",
       "\u001B[2;36m                    \u001B[0m         \u001B[32m'/home/jacob/path-integration-memory/notebooks/slides/ModelsResult.json'\u001B[0m  \u001B[2m            \u001B[0m\n"
      ]
     },
     "metadata": {},
     "output_type": "display_data"
    },
    {
     "data": {
      "text/html": [
       "<video src=\"media/jupyter/ModelsResult@2022-11-30@16-33-16.mp4\" controls autoplay loop style=\"max-width: 60%;\"  >\n",
       "      Your browser does not support the <code>video</code> element.\n",
       "    </video>"
      ],
      "text/plain": [
       "<IPython.core.display.Video object>"
      ]
     },
     "metadata": {},
     "output_type": "display_data"
    }
   ],
   "source": [
    "%%manim ModelsResult\n",
    "\n",
    "class ModelsResult(Slide):\n",
    "    def construct(self): \n",
    "        img = ImageMobject(\"./images/models.jpg\").move_to([0,0,0])\n",
    "        img.height = 8\n",
    "        \n",
    "        self.play(FadeIn(img))\n",
    "        \n",
    "        self.pause()\n",
    "        self.wait(0.1)"
   ]
  },
  {
   "cell_type": "code",
   "execution_count": null,
   "id": "57155e4a",
   "metadata": {},
   "outputs": [],
   "source": [
    "%%manim EvalResult\n",
    "\n",
    "paths = [\"./images/weights.png\",\"./images/dye.png\",\"./images/dye-beta.png\",\"./images/dye-cheat.png\",\"./images/dye-beta-cheat.png\",]\n",
    "titles = [\"Weights\",\"Dye basic\",\"Dye var beta\",\"Dye amp\",\"Dye var beta + amp\"]\n",
    "\n",
    "class EvalResult(Slide):\n",
    "    def construct(self):\n",
    "        \n",
    "        def create_img_and_title(path,title,side=1):\n",
    "            img = ImageMobject(path).move_to([side*3,10,0])\n",
    "            img.height=7\n",
    "            title_obj = Text(title).next_to(img,UP)\n",
    "            title_obj.font_size = 30\n",
    "#             title_obj.height = 0.3\n",
    "            return Group(img,title_obj)\n",
    "        \n",
    "        StoneGroup = create_img_and_title(\"./images/stone.png\",\"Stone\",-1)\n",
    "        StoneGroup.move_to([-3,-0.08,0])\n",
    "        self.add(StoneGroup)\n",
    "        \n",
    "        for path,title in zip(paths,titles):\n",
    "            group = create_img_and_title(path,title)\n",
    "            self.play(group.animate.move_to([3,0,0]))\n",
    "            self.pause()\n",
    "            self.play(group.animate.move_to([3,-20,0]))\n",
    "            \n",
    "        self.pause()\n",
    "        self.wait(0.1)"
   ]
  },
  {
   "cell_type": "code",
   "execution_count": null,
   "id": "28699ddd",
   "metadata": {},
   "outputs": [],
   "source": [
    "%%manim Conclusions\n",
    "\n",
    "class Conclusions(Slide):\n",
    "    def construct(self): \n",
    "        title = Title(r\"Conclusions\")\n",
    "        \n",
    "        bullets = BulletedList(\n",
    "            \"Can such dyes be used to implement the Stone model?\",\n",
    "            \"What changes to the network are required?\",\n",
    "            \"Can our results be related to biology?\",\n",
    "        ).scale(0.8).shift(LEFT)\n",
    "        \n",
    "        yes = Text(\"Yes\", color=GREEN,font_size=35).next_to(bullets,RIGHT)\n",
    "        minimal = Text(\"Minimal\", color=GREEN,font_size=35).next_to(bullets,RIGHT)\n",
    "        kinda = Text(\"Somewhat\", color=GREEN,font_size=35).next_to(bullets,RIGHT)\n",
    "        \n",
    "        self.play(Write(title))\n",
    "        self.play(Write(bullets))\n",
    "        \n",
    "        self.pause()\n",
    "        self.play(bullets.animate.fade_all_but(0))\n",
    "        self.pause()\n",
    "        self.play(Write(yes))\n",
    "        self.pause()\n",
    "        \n",
    "        self.play(FadeOut(yes),bullets.animate.fade_all_but(1))\n",
    "        self.pause()\n",
    "        self.play(Write(minimal))\n",
    "        self.pause()\n",
    "        \n",
    "        self.play(FadeOut(minimal),bullets.animate.fade_all_but(2))\n",
    "        self.pause()\n",
    "        self.play(Write(kinda))\n",
    "        self.pause()\n",
    "        self.play(FadeOut(kinda))\n",
    "        self.pause()\n",
    "        \n",
    "        \n",
    "        self.play(FadeOut(bullets),FadeOut(title))\n",
    "        self.play(Write(Text(\"Thanks for listening!\",font_size=60)))\n",
    "\n",
    "        self.pause()\n",
    "        self.wait(0.1)"
   ]
  },
  {
   "cell_type": "code",
   "execution_count": null,
   "id": "ccbb47ab",
   "metadata": {},
   "outputs": [],
   "source": []
  }
 ],
 "metadata": {
  "kernelspec": {
   "display_name": "pim",
   "language": "python",
   "name": "pim"
  },
  "language_info": {
   "codemirror_mode": {
    "name": "ipython",
    "version": 3
   },
   "file_extension": ".py",
   "mimetype": "text/x-python",
   "name": "python",
   "nbconvert_exporter": "python",
   "pygments_lexer": "ipython3",
   "version": "3.8.10"
  }
 },
 "nbformat": 4,
 "nbformat_minor": 5
}
