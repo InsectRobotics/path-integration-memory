{
 "cells": [
  {
   "cell_type": "code",
   "execution_count": null,
   "id": "6e84c669",
   "metadata": {},
   "outputs": [],
   "source": [
    "from manim import *\n",
    "import json\n",
    "from scipy.interpolate import interp1d"
   ]
  },
  {
   "cell_type": "code",
   "execution_count": null,
   "id": "8ee756ca",
   "metadata": {
    "scrolled": false
   },
   "outputs": [],
   "source": [
    "with open('./ideas/positions.json', 'r') as f:\n",
    "    path = json.load(f)\n",
    "# with open('./ideas/positions2.json', 'r') as f:\n",
    "#     path = json.load(f)\n",
    "    \n",
    "path = np.array([p+[0.0] for p in path])*0.018+0.1\n",
    "f = interp1d(np.linspace(0,1,3001), path, axis=0)"
   ]
  },
  {
   "cell_type": "code",
   "execution_count": null,
   "id": "7eabd4a9",
   "metadata": {
    "scrolled": false
   },
   "outputs": [],
   "source": [
    "%%manim DrawPath\n",
    "\n",
    "class DrawPath(MovingCameraScene):\n",
    "    def construct(self):\n",
    "        \n",
    "        def update_bee(bee, dt):\n",
    "            new_pos = f(tracker.get_value())\n",
    "            tsub1 = f(np.maximum(0, tracker2.get_value()))\n",
    "            \n",
    "            diff = new_pos-tsub1\n",
    "            angle = np.arctan2(diff[1], diff[0])\n",
    "            bee.points = bee.original_points.copy()\n",
    "                \n",
    "            bee.rotate(angle-PI/2)\n",
    "            bee.move_to(new_pos)\n",
    "            \n",
    "            tracker3.set_value(tracker2.get_value())\n",
    "            tracker2.set_value(tracker.get_value())\n",
    "        \n",
    "        outbound = ParametricFunction(f, t_range=[0,0.5], color=BLUE)\n",
    "        inbound = ParametricFunction(f, t_range=[0.5,1], color=ORANGE)\n",
    "        \n",
    "        label1 = Text(\"Outbound\").move_to([10,6,0])\n",
    "        line1 = Line([0,0,0],[1,0,0],color=BLUE,stroke_width=10).next_to(label1,LEFT)\n",
    "        label2 = Text(\"Inbound\").next_to(label1,DOWN)\n",
    "        line2 = Line([0,0,0],[1,0,0],color=ORANGE,stroke_width=10).next_to(label2,LEFT)\n",
    "        \n",
    "        tracker = ValueTracker(0)\n",
    "        tracker2 = ValueTracker(0)\n",
    "        tracker3 = ValueTracker(0)\n",
    "        \n",
    "        bee = ImageMobject(\"./bee_lowres.png\").add_updater(update_bee).set_z_index(10)\n",
    "        bee.height=0.2\n",
    "        bee.original_points = bee.points.copy()\n",
    "        nest = ImageMobject(\"./branch.png\").rotate(PI / 4)\n",
    "        nest.move_to([-0.7,0.1,0])\n",
    "        nest.height = 2\n",
    "        \n",
    "        self.camera.frame.move_to([5,3,0])  \n",
    "        self.add(nest,tracker,tracker2,tracker3)\n",
    "        \n",
    "        self.play(\n",
    "            Write(label1),\n",
    "            Write(label2),\n",
    "            Create(line1),\n",
    "            Create(line2),\n",
    "        )\n",
    "        self.wait(1)\n",
    "        \n",
    "        self.add(bee)\n",
    "        self.play(Create(outbound,rate_func=rate_functions.ease_in_sine),tracker.animate.set_value(0.5),run_time=7)\n",
    "        self.wait(0.2)\n",
    "        self.play(Create(inbound),tracker.animate.set_value(1),run_time=6)\n",
    "        self.wait(3)"
   ]
  },
  {
   "cell_type": "code",
   "execution_count": null,
   "id": "ccdb3899",
   "metadata": {},
   "outputs": [],
   "source": []
  }
 ],
 "metadata": {
  "kernelspec": {
   "display_name": "Python 3 (ipykernel)",
   "language": "python",
   "name": "python3"
  },
  "language_info": {
   "codemirror_mode": {
    "name": "ipython",
    "version": 3
   },
   "file_extension": ".py",
   "mimetype": "text/x-python",
   "name": "python",
   "nbconvert_exporter": "python",
   "pygments_lexer": "ipython3",
   "version": "3.10.6"
  }
 },
 "nbformat": 4,
 "nbformat_minor": 5
}
