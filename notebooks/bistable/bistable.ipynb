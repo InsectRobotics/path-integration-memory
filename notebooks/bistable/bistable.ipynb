{
 "cells": [
  {
   "cell_type": "code",
   "execution_count": null,
   "id": "4c160e3b-e582-41bb-837f-8243f7810d98",
   "metadata": {},
   "outputs": [],
   "source": [
    "import numpy as np\n",
    "import plotly.express as px\n",
    "import matplotlib.pyplot as plt"
   ]
  },
  {
   "cell_type": "code",
   "execution_count": null,
   "id": "45ac964e-91fb-4992-9b34-90b12a47527c",
   "metadata": {},
   "outputs": [],
   "source": [
    "class BistableNeuron:\n",
    "    def __init__(self, Idown, Iup, noise = 0.05):\n",
    "        self.Iup = Iup\n",
    "        self.Idown = Idown\n",
    "        self.state = 0\n",
    "        self.noise = noise\n",
    "        \n",
    "    def update(self, I):\n",
    "        if I > self.Iup:\n",
    "            self.state = 1\n",
    "        elif I < self.Idown:\n",
    "            self.state = 0\n",
    "        return self.state * 1.0 * I + np.random.normal(0, self.noise)\n",
    "        \n",
    "def simulate(neuron, T, I):\n",
    "    return np.array(\n",
    "        [neuron.update(i) for i in I]\n",
    "    )"
   ]
  },
  {
   "cell_type": "code",
   "execution_count": null,
   "id": "d3c24b72-230f-4657-8493-57ac479bccc9",
   "metadata": {},
   "outputs": [],
   "source": [
    "neuron = BistableNeuron(0.4, 0.6)\n",
    "\n",
    "T = np.linspace(0, 2, 100)\n",
    "\n",
    "def I(t):\n",
    "    I = t.copy()\n",
    "    I[t > 1] = (2 - t)[t > 1]\n",
    "    return I\n",
    "\n",
    "plt.figure()\n",
    "plt.plot(T, I(T), label=\"input\")\n",
    "plt.plot(T, np.ones(T.size) * neuron.Idown, label=\"I_down\")\n",
    "plt.plot(T, np.ones(T.size) * neuron.Iup, label=\"I_up\")\n",
    "\n",
    "#plt.figure()\n",
    "y = simulate(neuron, T, I(T))\n",
    "plt.plot(T, y, label=\"output\")\n",
    "plt.xlabel(\"time\")\n",
    "plt.ylabel(\"activity\")\n",
    "\n",
    "plt.legend()"
   ]
  },
  {
   "cell_type": "code",
   "execution_count": null,
   "id": "79a3eee1-6bc4-4928-b621-6c3fc20fc2a7",
   "metadata": {},
   "outputs": [],
   "source": [
    "N = 40\n",
    "dI = 0.05\n",
    "neurons = [BistableNeuron(I, I+dI, noise=0.01) for n in range(0, N) for I in (np.random.uniform(0-dI, 1-dI),)]\n",
    "\n",
    "plt.figure()\n",
    "n = np.zeros(T.size)\n",
    "for neuron in neurons:\n",
    "    y = simulate(neuron, T, I(T))\n",
    "    n += y > I(T) / 2 + 0.05\n",
    "    plt.plot(T, y)\n",
    "    \n",
    "plt.figure()\n",
    "plt.plot(T, I(T))\n",
    "plt.plot(T, n / N)\n"
   ]
  }
 ],
 "metadata": {
  "kernelspec": {
   "display_name": "pim",
   "language": "python",
   "name": "pim"
  },
  "language_info": {
   "codemirror_mode": {
    "name": "ipython",
    "version": 3
   },
   "file_extension": ".py",
   "mimetype": "text/x-python",
   "name": "python",
   "nbconvert_exporter": "python",
   "pygments_lexer": "ipython3",
   "version": "3.10.4"
  }
 },
 "nbformat": 4,
 "nbformat_minor": 5
}
