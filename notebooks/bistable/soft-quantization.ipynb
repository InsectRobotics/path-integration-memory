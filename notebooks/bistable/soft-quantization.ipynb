{
 "cells": [
  {
   "cell_type": "code",
   "execution_count": null,
   "id": "1d0d0d31",
   "metadata": {},
   "outputs": [],
   "source": [
    "%load_ext autoreload\n",
    "%autoreload 2\n",
    "\n",
    "from multiprocessing import Pool\n",
    "import numpy as np\n",
    "import matplotlib.pyplot as plt\n",
    "import plotly.express as px\n",
    "import networkx\n",
    "from loguru import logger\n",
    "from tqdm.notebook import tqdm\n",
    "from scipy.interpolate import interp1d\n",
    "\n",
    "from pim.models.network import Network\n",
    "from pim.models.new.stone import StoneExperiment, StoneResults\n",
    "from pim.models.new.stone.rate import CXRatePontine, CPU4PontineLayer\n",
    "\n",
    "from pim.models.stone import analysis\n",
    "\n",
    "logger.remove()\n"
   ]
  },
  {
   "cell_type": "code",
   "execution_count": null,
   "id": "4dc2b74a",
   "metadata": {},
   "outputs": [],
   "source": [
    "N = 10\n",
    "bins = np.linspace(1/N, 1, N-1, endpoint=False)\n",
    "\n",
    "def q(I):\n",
    "    return np.digitize(I, bins) / (N-1)\n",
    "\n",
    "plt.plot(np.linspace(0, 1, 100), np.linspace(0, 1, 100))\n",
    "plt.plot(np.linspace(0, 1, 100), q(np.linspace(0, 1, 100)))"
   ]
  },
  {
   "cell_type": "code",
   "execution_count": null,
   "id": "9fa014e6",
   "metadata": {},
   "outputs": [],
   "source": [
    "K = 1.0\n",
    "gain = 1.0\n",
    "\n",
    "def dydtq(I, y):\n",
    "    return (q(I) - y) * K\n",
    "\n",
    "def dydti(I, y):\n",
    "    return (I - y) * K\n",
    "\n",
    "def step(x, y, dydt, dt):\n",
    "    I = x + y * gain\n",
    "    return y + dt * dydt(I, y)\n",
    "\n",
    "t0=0\n",
    "tf=20\n",
    "r=100\n",
    "t = np.linspace(t0, tf, r)\n",
    "\n",
    "x = np.zeros(t.size)\n",
    "x[(0.2 < t) & (t < 0.3)] = 1.0\n",
    "x[(2.5 < t) & (t < 3.5)] = 1.0\n",
    "x[(7.5 < t) & (t < 8)] = -1.0\n",
    "x[(12 < t) & (t < 15)] = (t[(12 < t) & (t < 15)]-12)*0.05\n",
    "x *= 0.5\n",
    "z = np.cumsum(x)\n",
    "x = interp1d(t, x)\n",
    "z = interp1d(t, z)\n",
    "\n",
    "plt.plot(t, x(t), label=\"input\")\n",
    "plt.plot(t, z(t), label=\"true integral\")\n",
    "\n",
    "dt = 0.001\n",
    "T = t0\n",
    "y = [0]\n",
    "y2 = [0]\n",
    "t = [T]\n",
    "while T < tf:\n",
    "    y.append(step(x(T), y[-1], dydtq, dt))\n",
    "    y2.append(step(x(T), y2[-1], dydti, dt))\n",
    "    T += dt\n",
    "    t.append(T)\n",
    "    \n",
    "#plt.plot(t, np.array(y2)*5, label=\"recurrent\")\n",
    "\n",
    "plt.plot(t, np.array(y)*5, label=\"recurrent multistable\")\n",
    "plt.legend()"
   ]
  },
  {
   "cell_type": "code",
   "execution_count": null,
   "id": "3ca1e431",
   "metadata": {},
   "outputs": [],
   "source": [
    "def create_quantized_layer(N):\n",
    "    def closure(*args, **kwargs):\n",
    "        return SoftQuantizedCPU4PontinLayer(N, *args, **kwargs)\n",
    "    return closure\n",
    "\n",
    "class SoftQuantizedCPU4PontinLayer(CPU4PontineLayer):\n",
    "    def __init__(self, N, *args, **kwargs):\n",
    "        super().__init__(*args, **kwargs)\n",
    "        self.gain *= 1\n",
    "        self.N = N\n",
    "        self.K = 1\n",
    "        self.subdt = 0.005\n",
    "        self.bins = np.linspace(1/self.N, 1, self.N-1, endpoint=False)\n",
    "    \n",
    "    def step(self, network: Network, dt: float):\n",
    "        \"\"\"Memory neurons update.\n",
    "        cpu4[0-7] store optic flow peaking at left 45 deg\n",
    "        cpu[8-15] store optic flow peaking at right 45 deg.\"\"\"\n",
    "        tb1 = network.output(self.TB1)\n",
    "        tn1 = network.output(self.TN1)\n",
    "        tn2 = network.output(self.TN2)\n",
    "\n",
    "        mem_update = np.dot(self.W_TN, tn2)\n",
    "        mem_update -= np.dot(self.W_TB1, tb1)\n",
    "        mem_update = np.clip(mem_update, 0, 1)\n",
    "        mem_update = (mem_update - 0.125) * self.gain # input to each memory unit\n",
    "        \n",
    "        t = 0\n",
    "        while t < dt:\n",
    "            self.memory = self.substep(mem_update, self.memory, self.dydtq, self.subdt)\n",
    "            t += self.subdt # needs to me small enough for accuracy\n",
    "            \n",
    "        self.memory = np.clip(self.memory, 0.0, 1.0)\n",
    "    \n",
    "    def q(self, I):\n",
    "        return np.digitize(I, self.bins) / (self.N-1)\n",
    "\n",
    "    def dydtq(self, I, y):\n",
    "        #print(I, q(I))\n",
    "        return (self.q(I) - y) * self.K\n",
    "\n",
    "    def dydti(self, I, y):\n",
    "        return (I - y) * self.K\n",
    "\n",
    "    def substep(self, x, y, dydt, dt):\n",
    "        I = x + y * 1.00 # feedback gain is not what we're interested in here\n",
    "        return y + dt * dydt(I, y)\n",
    "        \n",
    "        #self.memory = np.clip((np.digitize(self.memory, self.bins) - 1) / self.N, 0.0, 1.0)"
   ]
  },
  {
   "cell_type": "code",
   "execution_count": null,
   "id": "fd677132",
   "metadata": {},
   "outputs": [],
   "source": [
    "parameters = {\n",
    "    \"model\": \"stone\",\n",
    "    \"T_outbound\": 1500,\n",
    "    \"T_inbound\": 1500,\n",
    "    \"time_subdivision\": 1,\n",
    "    \"noise\": 0.1,\n",
    "    \"cx\": \"pontine\"\n",
    "}\n",
    "\n",
    "def create_experiment(cpu4):\n",
    "    cx = CXRatePontine(CPU4LayerClass=cpu4, noise = parameters[\"noise\"])\n",
    "    cx.setup()\n",
    "    experiment = StoneExperiment(parameters)\n",
    "    experiment.cx = cx\n",
    "    return experiment\n",
    "\n",
    "def run_experiment(cpu4, ts = 1, report = False):\n",
    "    experiment = create_experiment(cpu4)\n",
    "    experiment.parameters[\"time_subdivision\"] = ts\n",
    "    results = experiment.run(\"test\")\n",
    "    if report:\n",
    "        results.report()\n",
    "    return np.linalg.norm(results.closest_position())\n"
   ]
  },
  {
   "cell_type": "code",
   "execution_count": null,
   "id": "00cdabe0",
   "metadata": {},
   "outputs": [],
   "source": [
    "mean_benchmark = np.mean([run_experiment(CPU4PontineLayer) for i in tqdm(range(0, 10))])\n",
    "print(f\"Benchmark mean: {mean_benchmark}\")"
   ]
  },
  {
   "cell_type": "code",
   "execution_count": null,
   "id": "b17c8167",
   "metadata": {
    "scrolled": true
   },
   "outputs": [],
   "source": [
    "# run_experiment(create_quantized_layer(10000), report=True)\n",
    "run_experiment(CPU4PontineLayer, report=True)"
   ]
  },
  {
   "cell_type": "code",
   "execution_count": null,
   "id": "8b9dbe02",
   "metadata": {},
   "outputs": [],
   "source": [
    "Ns = range(50, 8001, 50)\n",
    "\n",
    "def task(N):\n",
    "    np.random.seed()\n",
    "    samples = [run_experiment(create_quantized_layer(N)) for i in range(0, 10)]\n",
    "    return np.mean(samples)\n",
    "\n",
    "with Pool(4) as p:\n",
    "    results = list(tqdm(p.imap(task, Ns), total=len(Ns)))\n",
    "    \n",
    "px.scatter(x=Ns, y=results, labels={\"x\": \"resolution\", \"y\": \"smallest distance from nest\"})"
   ]
  },
  {
   "cell_type": "code",
   "execution_count": null,
   "id": "cfb41ce1",
   "metadata": {
    "scrolled": true
   },
   "outputs": [],
   "source": [
    "#results_50_10000 = results\n",
    "#results1# = results\n",
    "#results_50_10000_2 # = results\n",
    "results_strange# = results"
   ]
  },
  {
   "cell_type": "code",
   "execution_count": null,
   "id": "3fb7bafa",
   "metadata": {},
   "outputs": [],
   "source": [
    "px.scatter(x=Ns[:200], y=[results1, results_nq], labels={\"x\": \"resolution\", \"y\": \"smallest distance from nest\"})"
   ]
  }
 ],
 "metadata": {
  "kernelspec": {
   "display_name": "pim",
   "language": "python",
   "name": "pim"
  },
  "language_info": {
   "codemirror_mode": {
    "name": "ipython",
    "version": 3
   },
   "file_extension": ".py",
   "mimetype": "text/x-python",
   "name": "python",
   "nbconvert_exporter": "python",
   "pygments_lexer": "ipython3",
   "version": "3.10.4"
  }
 },
 "nbformat": 4,
 "nbformat_minor": 5
}
