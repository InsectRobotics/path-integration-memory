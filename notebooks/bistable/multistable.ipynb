{
 "cells": [
  {
   "cell_type": "code",
   "execution_count": null,
   "id": "8bc80cdd",
   "metadata": {},
   "outputs": [],
   "source": [
    "import numpy as np\n",
    "import matplotlib.pyplot as plt\n",
    "import plotly.express as px\n",
    "import plotly.graph_objects as go\n",
    "from scipy.interpolate import interp1d\n",
    "from scipy.integrate import solve_ivp\n",
    "plt.rcParams['figure.figsize'] = [15, 10]"
   ]
  },
  {
   "cell_type": "code",
   "execution_count": null,
   "id": "45ee05a6",
   "metadata": {},
   "outputs": [],
   "source": [
    "r=100\n",
    "N=50\n",
    "K=100\n",
    "stable_states = np.linspace(0, 1, N)\n",
    "\n",
    "t0=0\n",
    "tf=20\n",
    "\n",
    "t = np.linspace(t0, tf, r)\n",
    "\n",
    "x = np.zeros(t.size)\n",
    "x[(0.2 < t) & (t < 0.3)] = 1.0\n",
    "x[(2.5 < t) & (t < 3.5)] = 1.0\n",
    "x[(7.5 < t) & (t < 8)] = -1.0\n",
    "x[(12 < t) & (t < 15)] = (t[(12 < t) & (t < 15)]-12)*0.05\n",
    "x = interp1d(t, x * 0.1)\n",
    "\n",
    "integral = solve_ivp(lambda t, y: np.array([x(t)]), (t0, tf), np.array([0]), t_eval=t)\n",
    "z = interp1d(t, integral.y[0])\n",
    "\n",
    "def B(x, s):\n",
    "    a = 4*N\n",
    "    exp = np.exp(-a*(x-s))\n",
    "    return exp/(1 + exp*exp)\n",
    "\n",
    "def dydt(x, y):\n",
    "    return np.sum(B(x, stable_states)*(stable_states - y))\n",
    "\n",
    "def f(t, y):\n",
    "    return K*np.array([dydt(x(t) * 0.2 + y*1.005, y)])\n",
    "\n",
    "#x = 0.03\n",
    "#y = x\n",
    "#print(B(x, stable_states)**2*(stable_states - y))\n",
    "#print(dydt(0.03, 0.03))\n",
    "\n",
    "solution = solve_ivp(f, (t0, tf), np.array([0]), t_eval=t)\n",
    "plt.plot(t, x(t), label=\"x(t)\")\n",
    "plt.plot(t, z(t), label=\"true integral\")\n",
    "plt.plot(solution.t, solution.y[0], label=\"y(t)\")\n",
    "plt.legend()"
   ]
  },
  {
   "cell_type": "code",
   "execution_count": null,
   "id": "621bd843",
   "metadata": {
    "scrolled": false
   },
   "outputs": [],
   "source": [
    "u, v = np.meshgrid(t, np.linspace(0, 1, r))\n",
    "plt.quiver(u, v, 1.0, K*np.array([[dydt(u__, v__) for u__, v__ in zip(u_, v_)] for u_, v_ in zip(v, v)]))"
   ]
  },
  {
   "cell_type": "code",
   "execution_count": null,
   "id": "19558970",
   "metadata": {},
   "outputs": [],
   "source": [
    "y = np.array([B(x, stable_states) for x in np.linspace(0, 1, r)]).T\n",
    "#print(y)\n",
    "\n",
    "for ys in y:\n",
    "    plt.plot(t, ys)"
   ]
  }
 ],
 "metadata": {
  "kernelspec": {
   "display_name": "pim",
   "language": "python",
   "name": "pim"
  },
  "language_info": {
   "codemirror_mode": {
    "name": "ipython",
    "version": 3
   },
   "file_extension": ".py",
   "mimetype": "text/x-python",
   "name": "python",
   "nbconvert_exporter": "python",
   "pygments_lexer": "ipython3",
   "version": "3.10.4"
  }
 },
 "nbformat": 4,
 "nbformat_minor": 5
}
