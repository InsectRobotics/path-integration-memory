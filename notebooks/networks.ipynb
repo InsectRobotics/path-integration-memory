{
 "cells": [
  {
   "cell_type": "code",
   "execution_count": null,
   "metadata": {},
   "outputs": [],
   "source": [
    "%load_ext autoreload\n",
    "%autoreload 2\n",
    "\n",
    "import numpy as np\n",
    "import matplotlib.pyplot as plt\n",
    "\n",
    "from pim.models.network2 import RecurrentNetwork, Layer, InputLayer, Connection, WeightedConnection\n",
    "from pim.models.new.stone import tb1_output, tn1_output, tn2_output, cpu4_output, cpu1_output, motor_output, CentralComplex"
   ]
  },
  {
   "cell_type": "code",
   "execution_count": null,
   "metadata": {},
   "outputs": [],
   "source": [
    "def linear_neuron(gain, gain_noise, noise):\n",
    "    gain = np.random.normal(gain, gain_noise)\n",
    "    def f(x):\n",
    "        return gain * x + np.random.normal(0, noise)\n",
    "    return f\n",
    "\n",
    "def bistable_neuron(Idown, Iup, gain, gain_noise, noise):\n",
    "    gain = np.random.normal(gain, gain_noise)\n",
    "    state = 0\n",
    "    def f(x):\n",
    "        nonlocal state\n",
    "        if x >= Iup:\n",
    "            state = 1\n",
    "        elif x <= Idown:\n",
    "            state = 0            \n",
    "        return state * gain * x + np.random.normal(0, noise)\n",
    "    return f"
   ]
  },
  {
   "cell_type": "code",
   "execution_count": null,
   "metadata": {},
   "outputs": [],
   "source": [
    "class BistableLayer(Layer):\n",
    "    def __init__(self, name, N, dI, mI, gain, gain_noise, noise):\n",
    "        super().__init__(name)\n",
    "        self.N = N\n",
    "        self.mI = mI\n",
    "        self.gain = np.random.normal(gain, gain_noise)\n",
    "        self.noise = noise\n",
    "        print([I_down for I_down in np.linspace((mI-dI)/N, mI, N)])\n",
    "        self.neurons = [bistable_neuron(I_up-dI, I_up, 1.0, 0.0, noise) for I_up in np.linspace((mI-dI)/N, mI, N)]\n",
    "    \n",
    "    def update(self, x):\n",
    "        activity = np.array([neuron(x) for neuron in self.neurons])\n",
    "        num_active = np.sum(activity > 0.5)\n",
    "        return num_active / self.N * self.mI * self.gain + np.random.normal(0.0, self.noise)\n",
    "\n",
    "class LinearLayer(Layer):\n",
    "    def __init__(self, name, gain, gain_noise, noise):\n",
    "        super().__init__(name)\n",
    "        self.neuron = linear_neuron(gain, gain_noise, noise)\n",
    "    \n",
    "    def update(self, x):\n",
    "        return self.neuron(x)\n",
    "    \n",
    "def step(network, input_layer, memory, i):\n",
    "    input_layer.set(i)\n",
    "    network.step()\n",
    "    return memory.output\n"
   ]
  },
  {
   "cell_type": "code",
   "execution_count": null,
   "metadata": {},
   "outputs": [],
   "source": [
    "T = np.linspace(0, 20, 100)\n",
    "I = np.zeros(T.size)\n",
    "I[(0.2 < T) & (T < 0.3)] = 1.0\n",
    "I[(2.5 < T) & (T < 3.5)] = 1.0\n",
    "I[(7.5 < T) & (T < 8)] = -1.0\n",
    "I[(12 < T) & (T < 15)] = (T[(12 < T) & (T < 15)]-12)*0.05\n",
    "\n",
    "plt.figure()\n",
    "plt.plot(T, I)\n",
    "plt.plot(T, np.cumsum(I))\n",
    "plt.show()"
   ]
  },
  {
   "cell_type": "code",
   "execution_count": null,
   "metadata": {},
   "outputs": [],
   "source": [
    "network = RecurrentNetwork()\n",
    "\n",
    "input_layer = network.add_layer(InputLayer(\"in\"))\n",
    "memory = network.add_layer(BistableLayer(\"mem\", 40, 0.2, 10, 1.03, 0.00, 0.02))\n",
    "#memory = network.add_layer(LinearLayer(\"mem\", 1.0, 0.00, 0.05))\n",
    "\n",
    "network.add_connection(WeightedConnection(\"in\", \"mem\", 1.0))\n",
    "network.add_connection(WeightedConnection(\"mem\", \"mem\"))\n",
    "\n",
    "output = np.array([step(network, input_layer, memory, i) for i in I])\n",
    "\n",
    "plt.figure()\n",
    "plt.plot(T, I, label=\"input\")\n",
    "plt.plot(T, np.cumsum(I), label=\"true integral\")\n",
    "plt.plot(T, output, label=\"memory\")\n",
    "plt.legend()"
   ]
  }
 ],
 "metadata": {
  "kernelspec": {
   "display_name": "pim",
   "language": "python",
   "name": "pim"
  },
  "language_info": {
   "codemirror_mode": {
    "name": "ipython",
    "version": 3
   },
   "file_extension": ".py",
   "mimetype": "text/x-python",
   "name": "python",
   "nbconvert_exporter": "python",
   "pygments_lexer": "ipython3",
   "version": "3.8.10"
  }
 },
 "nbformat": 4,
 "nbformat_minor": 4
}
