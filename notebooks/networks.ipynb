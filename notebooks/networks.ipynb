{
 "cells": [
  {
   "cell_type": "code",
   "execution_count": null,
   "id": "ba92069a-b1a1-49e0-a023-51fe0b8f4095",
   "metadata": {},
   "outputs": [],
   "source": [
    "%load_ext autoreload\n",
    "%autoreload 2\n",
    "\n",
    "from pim.models.network import ForwardNetwork, RecurrentNetwork, InputLayer, FunctionLayer, IdentityLayer\n",
    "\n",
    "import matplotlib.pyplot as plt\n",
    "import numpy as np"
   ]
  },
  {
   "cell_type": "code",
   "execution_count": null,
   "id": "ae3b94d3-bba5-4f26-af71-c40175465146",
   "metadata": {},
   "outputs": [],
   "source": [
    "def sigmoid(x):\n",
    "    return 1 / (1 + np.exp(-x)) - 0.5\n",
    "\n",
    "def relu(x):\n",
    "    return np.fmax(np.array([0.0]), x[0])\n",
    "\n",
    "def hidden(inputs):\n",
    "    x, y = inputs\n",
    "    print(y)\n",
    "    return sigmoid(x) + 0.6 * y"
   ]
  },
  {
   "cell_type": "code",
   "execution_count": null,
   "id": "9a54ea9b-a35c-4f4e-9bea-1499a3e680c5",
   "metadata": {},
   "outputs": [],
   "source": [
    "T = np.linspace(-10, 10, 100)"
   ]
  },
  {
   "cell_type": "code",
   "execution_count": null,
   "id": "59d92f20-3680-4c29-9eb8-fa74c29f9a7a",
   "metadata": {},
   "outputs": [],
   "source": [
    "plt.plot(T, sigmoid([T]))"
   ]
  },
  {
   "cell_type": "code",
   "execution_count": null,
   "id": "fad8201f-41d1-49c9-80cb-31826240f2bc",
   "metadata": {},
   "outputs": [],
   "source": [
    "input_layer = InputLayer()\n",
    "network = RecurrentNetwork({\n",
    "    \"in\": input_layer,\n",
    "    \"hidden\": FunctionLayer(inputs = [\"in\"], function = lambda x: sigmoid(x[0])),\n",
    "    \"integrator\": FunctionLayer(inputs = [\"hidden\", \"integrator\"], function = lambda x: x[0]+ 0.5 + x[1]),\n",
    "    \"out\": FunctionLayer(inputs = [\"integrator\"], function = relu),\n",
    "})\n",
    "\n",
    "Y = network.simulate(input_layer, \"integrator\", T)\n",
    "\n",
    "plt.plot(T, Y)"
   ]
  },
  {
   "cell_type": "code",
   "execution_count": null,
   "id": "0bb1133d",
   "metadata": {},
   "outputs": [],
   "source": [
    "import networkx as nx\n",
    "nx.draw(network.get_graph(), with_labels=True)"
   ]
  }
 ],
 "metadata": {
  "kernelspec": {
   "display_name": "pim",
   "language": "python",
   "name": "pim"
  },
  "language_info": {
   "codemirror_mode": {
    "name": "ipython",
    "version": 3
   },
   "file_extension": ".py",
   "mimetype": "text/x-python",
   "name": "python",
   "nbconvert_exporter": "python",
   "pygments_lexer": "ipython3",
   "version": "3.8.10"
  }
 },
 "nbformat": 4,
 "nbformat_minor": 5
}
