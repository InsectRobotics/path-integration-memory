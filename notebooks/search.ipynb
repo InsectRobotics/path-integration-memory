{
 "cells": [
  {
   "cell_type": "code",
   "execution_count": 56,
   "metadata": {},
   "outputs": [
    {
     "name": "stdout",
     "output_type": "stream",
     "text": [
      "The autoreload extension is already loaded. To reload it, use:\n",
      "  %reload_ext autoreload\n"
     ]
    }
   ],
   "source": [
    "%load_ext autoreload\n",
    "%autoreload 2<"
   ]
  },
  {
   "cell_type": "code",
   "execution_count": 57,
   "metadata": {},
   "outputs": [],
   "source": [
    "import pim\n",
    "import pickle\n",
    "import numpy as np\n",
    "import matplotlib.pyplot as plt\n",
    "import subprocess\n",
    "\n",
    "from random import uniform\n",
    "from scipy.optimize import minimize\n",
    "from pim.models.new.stone import trials\n"
   ]
  },
  {
   "cell_type": "code",
   "execution_count": 58,
   "metadata": {},
   "outputs": [],
   "source": [
    "def descend(T_inbound=1500, T_outbound=1500, noise=0.1, \n",
    "            phi=(0.1,1.0),beta=(0.0,1.0),T_half=(0.5,5.0),\n",
    "            epsilon=(1e1,1e5),l=(1e-4,1e-3),c_tot=(1e-8,0.3)):\n",
    "\n",
    "    bounds = [phi, beta, T_half, epsilon, l, c_tot]\n",
    "    initial = np.array([uniform(a,b) for a,b in bounds])\n",
    "\n",
    "    headings, velocities = trials.generate_route(T = 1500, vary_speed = True)\n",
    "\n",
    "    with open(\"path.pickle\", \"wb\") as f:\n",
    "        pickle.dump((headings.tolist(), velocities.tolist()), f)\n",
    "\n",
    "\n",
    "    def fastbee(x, *args):\n",
    "\n",
    "        subprocess.run(['../../fastbee/target/release/fastbee', *[str(param) for param in x], str(noise)])\n",
    "\n",
    "        with open(\"path.pickle\", \"rb\") as outbound, open(\"inbound.pickle\", \"rb\") as inbound:\n",
    "            out_path = pickle.load(outbound)\n",
    "            in_path = pickle.load(inbound)\n",
    "\n",
    "        v = out_path[1] + in_path[1]\n",
    "\n",
    "        position = np.zeros(2)\n",
    "        path = [position]\n",
    "        for velocity in v:\n",
    "            position = position + velocity\n",
    "            path.append(position)\n",
    "\n",
    "        closest = min(path[T_outbound:], key = np.linalg.norm)\n",
    "        return np.linalg.norm(closest)\n",
    "\n",
    "    result = minimize(fastbee, x0=initial, bounds=bounds)\n",
    "\n",
    "    return result"
   ]
  },
  {
   "cell_type": "code",
   "execution_count": 59,
   "metadata": {},
   "outputs": [
    {
     "name": "stdout",
     "output_type": "stream",
     "text": [
      "      fun: 10.207252864407886\n",
      " hess_inv: <6x6 LbfgsInvHessProduct with dtype=float64>\n",
      "      jac: array([1.56292362e+09, 6.00514606e+09, 4.64988845e+09, 1.37392490e+09,\n",
      "       1.85247498e+09, 5.62042794e+09])\n",
      "  message: 'CONVERGENCE: REL_REDUCTION_OF_F_<=_FACTR*EPSMCH'\n",
      "     nfev: 245\n",
      "      nit: 4\n",
      "     njev: 35\n",
      "   status: 0\n",
      "  success: True\n",
      "        x: array([4.46604464e-01, 6.13882876e+00, 9.87144854e+00, 5.65649968e+03,\n",
      "       6.04728477e-04, 2.46410552e-01])\n"
     ]
    }
   ],
   "source": [
    "res = descend(\n",
    "    phi=(0.001,0.9),\n",
    "    beta=(0.01,10.0),\n",
    "    T_half=(0.1,10.0),\n",
    "    epsilon=(1e3,1e4),\n",
    "    l=(1e-5,1e-3),\n",
    "    c_tot=(1e-2,3e-1),\n",
    "    noise=0.1\n",
    ")\n",
    "print(res)"
   ]
  },
  {
   "cell_type": "code",
   "execution_count": 60,
   "metadata": {},
   "outputs": [
    {
     "name": "stdout",
     "output_type": "stream",
     "text": [
      "124.21390051773136\n"
     ]
    }
   ],
   "source": [
    "avg = 0\n",
    "N = 50\n",
    "\n",
    "if res.success:\n",
    "    for i in range(N):\n",
    "        headings, velocities = trials.generate_route(T = 1500, vary_speed = True)\n",
    "\n",
    "        with open(\"path.pickle\", \"wb\") as f:\n",
    "            pickle.dump((headings.tolist(), velocities.tolist()), f)\n",
    "\n",
    "        subprocess.run(['../../fastbee/target/release/fastbee', *[str(param) for param in res.x], str(0.1)])\n",
    "\n",
    "        with open(\"path.pickle\", \"rb\") as outbound, open(\"inbound.pickle\", \"rb\") as inbound:\n",
    "            out_path = pickle.load(outbound)\n",
    "            in_path = pickle.load(inbound)\n",
    "\n",
    "        v = out_path[1] + in_path[1]\n",
    "\n",
    "        position = np.zeros(2)\n",
    "        path = [position]\n",
    "        for velocity in v:\n",
    "            position = position + velocity\n",
    "            path.append(position)\n",
    "\n",
    "        closest = min(path[1500:], key = np.linalg.norm)\n",
    "        avg += np.linalg.norm(closest)\n",
    "\n",
    "    print(avg/N)"
   ]
  },
  {
   "cell_type": "code",
   "execution_count": null,
   "metadata": {},
   "outputs": [],
   "source": []
  }
 ],
 "metadata": {
  "kernelspec": {
   "display_name": "pim",
   "language": "python",
   "name": "pim"
  },
  "language_info": {
   "codemirror_mode": {
    "name": "ipython",
    "version": 3
   },
   "file_extension": ".py",
   "mimetype": "text/x-python",
   "name": "python",
   "nbconvert_exporter": "python",
   "pygments_lexer": "ipython3",
   "version": "3.8.10"
  },
  "orig_nbformat": 4,
  "vscode": {
   "interpreter": {
    "hash": "bc2d2aa2a61f36ee4a08cf2095160b051365b74be29df43545c3fec0565188ae"
   }
  }
 },
 "nbformat": 4,
 "nbformat_minor": 2
}
