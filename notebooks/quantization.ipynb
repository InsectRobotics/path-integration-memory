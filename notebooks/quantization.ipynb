{
 "cells": [
  {
   "cell_type": "code",
   "execution_count": null,
   "metadata": {},
   "outputs": [],
   "source": [
    "%load_ext autoreload\n",
    "%autoreload 2\n",
    "\n",
    "import numpy as np\n",
    "import matplotlib.pyplot as plt\n",
    "import plotly.express as px\n",
    "import networkx\n",
    "from loguru import logger\n",
    "from tqdm.notebook import tqdm\n",
    "\n",
    "from pim.models.network import Network\n",
    "from pim.models.new.stone import StoneExperiment, StoneResults\n",
    "from pim.models.new.stone.rate import CXRatePontin, CPU4PontinLayer\n",
    "\n",
    "from pim.models.stone import analysis\n",
    "\n",
    "logger.remove()\n"
   ]
  },
  {
   "cell_type": "code",
   "execution_count": null,
   "metadata": {},
   "outputs": [],
   "source": [
    "x = np.linspace(0, 1, 100)\n",
    "bins = np.linspace(0, 1, 10, endpoint=False)\n",
    "print(bins)\n",
    "y = (np.digitize(x, bins)-1) / 10\n",
    "plt.plot(x, x)\n",
    "plt.plot(x, y)"
   ]
  },
  {
   "cell_type": "code",
   "execution_count": null,
   "metadata": {},
   "outputs": [],
   "source": [
    "def create_quantized_layer(N):\n",
    "    def closure(*args, **kwargs):\n",
    "        return QuantizedCPU4PontinLayer(N, *args, **kwargs)\n",
    "    return closure\n",
    "\n",
    "class QuantizedCPU4PontinLayer(CPU4PontinLayer):\n",
    "    def __init__(self, N, *args, **kwargs):\n",
    "        super().__init__(*args, **kwargs)\n",
    "        self.N = N\n",
    "        self.bins = np.linspace(0, 1, self.N, endpoint = False)\n",
    "    \n",
    "    def step(self, network: Network, dt: float):\n",
    "        \"\"\"Memory neurons update.\n",
    "        cpu4[0-7] store optic flow peaking at left 45 deg\n",
    "        cpu[8-15] store optic flow peaking at right 45 deg.\"\"\"\n",
    "        tb1 = network.output(self.TB1)\n",
    "        tn1 = network.output(self.TN1) * dt\n",
    "        tn2 = network.output(self.TN2) * dt\n",
    "\n",
    "        mem_update = np.dot(self.W_TN, tn2)\n",
    "        mem_update -= np.dot(self.W_TB1, tb1)\n",
    "        mem_update = np.clip(mem_update, 0, 1)\n",
    "        mem_update *= self.gain\n",
    "        self.memory += mem_update\n",
    "        self.memory -= 0.125 * self.gain * dt\n",
    "        self.memory = np.clip((np.digitize(self.memory, self.bins) - 1) / self.N, 0.0, 1.0)"
   ]
  },
  {
   "cell_type": "code",
   "execution_count": null,
   "metadata": {},
   "outputs": [],
   "source": [
    "parameters = {\n",
    "    \"model\": \"stone\",\n",
    "    \"T_outbound\": 1500,\n",
    "    \"T_inbound\": 1000,\n",
    "    \"time_subdivision\": 1,\n",
    "    \"noise\": 0.1,\n",
    "    \"cx\": \"pontin\"\n",
    "}\n",
    "\n",
    "def create_experiment(cpu4):\n",
    "    cx = CXRatePontin(CPU4LayerClass=cpu4, noise = parameters[\"noise\"])\n",
    "    cx.setup()\n",
    "    experiment = StoneExperiment(parameters)\n",
    "    experiment.cx = cx\n",
    "    return experiment\n",
    "\n",
    "def run_experiment(cpu4, N = 0, ts = 1, report = False):\n",
    "    experiment = create_experiment(cpu4)\n",
    "    experiment.parameters[\"time_subdivision\"] = ts\n",
    "    results = experiment.run(\"test\")\n",
    "    if report:\n",
    "        results.report()\n",
    "    return np.linalg.norm(results.closest_position())\n"
   ]
  },
  {
   "cell_type": "code",
   "execution_count": null,
   "metadata": {},
   "outputs": [],
   "source": [
    "run_experiment(CPU4PontinLayer, N=1, ts=10, report=True)"
   ]
  },
  {
   "cell_type": "code",
   "execution_count": null,
   "metadata": {},
   "outputs": [],
   "source": [
    "mean_benchmark = np.mean([run_experiment(CPU4PontinLayer) for i in tqdm(range(0, 10))])\n",
    "print(f\"Benchmark mean: {mean_benchmark}\")"
   ]
  },
  {
   "cell_type": "code",
   "execution_count": null,
   "metadata": {},
   "outputs": [],
   "source": [
    "Ns = range(10, 10000, 10)\n",
    "results1 = [run_experiment(create_quantized_layer(N), ts=1) for N in tqdm(Ns)]\n",
    "results2 = [run_experiment(create_quantized_layer(N), ts=2) for N in tqdm(Ns)]\n",
    "results10 = [run_experiment(create_quantized_layer(N), ts=10) for N in tqdm(Ns)]"
   ]
  },
  {
   "cell_type": "code",
   "execution_count": null,
   "metadata": {},
   "outputs": [],
   "source": [
    "px.scatter(x=Ns, y=results1, labels={\"x\": \"resolution\", \"y\": \"smallest distance from nest\"})"
   ]
  }
 ],
 "metadata": {
  "kernelspec": {
   "display_name": "pim",
   "language": "python",
   "name": "pim"
  },
  "language_info": {
   "codemirror_mode": {
    "name": "ipython",
    "version": 3
   },
   "file_extension": ".py",
   "mimetype": "text/x-python",
   "name": "python",
   "nbconvert_exporter": "python",
   "pygments_lexer": "ipython3",
   "version": "3.10.4"
  }
 },
 "nbformat": 4,
 "nbformat_minor": 4
}
