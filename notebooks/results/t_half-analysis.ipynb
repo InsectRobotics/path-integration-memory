{
 "cells": [
  {
   "cell_type": "code",
   "execution_count": null,
   "metadata": {},
   "outputs": [],
   "source": [
    "%load_ext autoreload\n",
    "%autoreload 2\n",
    "%matplotlib widget"
   ]
  },
  {
   "cell_type": "code",
   "execution_count": null,
   "metadata": {},
   "outputs": [],
   "source": [
    "import json\n",
    "import numpy as np\n",
    "import matplotlib.pyplot as plt\n",
    "\n",
    "from mpl_toolkits.mplot3d import axes3d\n",
    "from matplotlib import cm\n",
    "from scipy.interpolate import griddata\n",
    "\n",
    "from pathlib import Path"
   ]
  },
  {
   "cell_type": "code",
   "execution_count": null,
   "metadata": {},
   "outputs": [],
   "source": [
    "paths = []\n",
    "results = {}\n",
    "\n",
    "# paths.append(Path(\"../../results/distances/20220807-185201.json\")) # 3000 normal phi\n",
    "\n",
    "# paths.append(Path(\"../../results/distances/20220807-201939.json\")) # 500 normal phi\n",
    "# paths.append(Path(\"../../results/distances/20220807-215412.json\")) # 500 big phi\n",
    "\n",
    "# paths.append(Path(\"../../results/distances/20220808-105411.json\")) # 1500 small phi\n",
    "# paths.append(Path(\"../../results/distances/20220807-164740.json\")) # 1500 normal phi\n",
    "# paths.append(Path(\"../../results/distances/20220808-100633.json\")) # 1500 big phi\n",
    "\n",
    "# paths.append(Path(\"../../results/distances/20220808-133109.json\")) # 1500 T_half\n",
    "# paths.append(Path(\"../../results/distances/20220808-134307.json\")) # 1500 T_half long\n",
    "\n",
    "# paths.append(Path(\"../../results/distances/20220808-142650.json\")) # 1500 mix phi/T_half\n",
    "# paths.append(Path(\"../../results/distances/20220808-171339.json\")) # 1500 mix phi/T_half\n",
    "# paths.append(Path(\"../../results/distances/20220808-184217.json\")) # 1500 mix phi/T_half\n",
    "#paths.append(Path(\"../../results/distances/20220808-214430.json\"))\n",
    "paths.append(Path(\"../../results/distances/20220809-112831.json\"))\n",
    "for path in paths:\n",
    "    with path.open() as f:\n",
    "        result = json.load(f)\n",
    "        results.update(result)"
   ]
  },
  {
   "cell_type": "code",
   "execution_count": null,
   "metadata": {},
   "outputs": [],
   "source": [
    "# 3D plots\n",
    "parameter_1 = \"T_half\"\n",
    "parameter_2 = \"beta\"\n",
    "data = [(v[\"parameters\"][\"cx\"][\"params\"][parameter_1],v[\"parameters\"][\"cx\"][\"params\"][parameter_2],v[\"mean_distance\"]) for v in results.values()]\n",
    "data = sorted(data)\n",
    "\n",
    "\n",
    "minimum = zip(min(data, key=lambda tup: tup[2]))\n",
    "x,y,z = zip(*data)\n",
    "\n",
    "x = np.log10(x)\n",
    "\n",
    "grid_x,grid_y = np.mgrid[min(x):max(x):100j, min(y):max(y):100j]\n",
    "#grid_x,grid_y = np.meshgrid(np.linspace(np.log10(min(x)), np.log10(max(x)), 100), np.linspace(min(y), max(y), 100))\n",
    "grid_z = griddata((x,y),z,(grid_x,grid_y),method='nearest',rescale=True) # method can be nearest, linear or cubic\n",
    "\n",
    "plt.figure(figsize=(7,7))\n",
    "ax = plt.axes(projection='3d', computed_zorder=False)\n",
    "ax.plot_surface(grid_x,grid_y,grid_z,cmap=cm.Spectral)\n",
    "ax.set_xlabel(\"$T_{1/2}$\")\n",
    "ax.set_ylabel(\"$\\\\beta$\")\n",
    "\n",
    "\n",
    "#ax.scatter(*zip(*data))\n",
    "#ax.scatter(*minimum, alpha=1, s=100, marker=\"o\")\n",
    "\n",
    "#ax.set_xscale(\"log\")\n",
    "plt.show()"
   ]
  },
  {
   "cell_type": "code",
   "execution_count": null,
   "metadata": {},
   "outputs": [],
   "source": [
    "from pim.setup import enumerate_results, load_results\n",
    "from tqdm import tqdm\n",
    "\n",
    "file = \"../../results/dye-stability_20220808-173622\"\n",
    "paths = enumerate_results([file])\n",
    "\n",
    "beta_min = 0.18\n",
    "beta_max = 0.22\n",
    "log_t_half_min = 3.6\n",
    "log_t_half_max = 4.0\n",
    "\n",
    "for result in load_results(tqdm(paths)):\n",
    "    params = result.parameters[\"cx\"][\"params\"]\n",
    "    if beta_min <= params[\"beta\"] <= beta_max and log_t_half_min <= np.log10(params[\"T_half\"]) <= log_t_half_max:\n",
    "        found = result\n",
    "        break\n"
   ]
  },
  {
   "cell_type": "code",
   "execution_count": null,
   "metadata": {},
   "outputs": [],
   "source": [
    "print(found.parameters)\n",
    "print(np.linalg.norm(found.closest_position()))\n",
    "\n",
    "fig = plt.figure()\n",
    "found.plot_path(plt.axes())\n",
    "#print(found.recordings)"
   ]
  }
 ],
 "metadata": {
  "kernelspec": {
   "display_name": "pim",
   "language": "python",
   "name": "pim"
  },
  "language_info": {
   "codemirror_mode": {
    "name": "ipython",
    "version": 3
   },
   "file_extension": ".py",
   "mimetype": "text/x-python",
   "name": "python",
   "nbconvert_exporter": "python",
   "pygments_lexer": "ipython3",
   "version": "3.8.10"
  },
  "vscode": {
   "interpreter": {
    "hash": "bc2d2aa2a61f36ee4a08cf2095160b051365b74be29df43545c3fec0565188ae"
   }
  }
 },
 "nbformat": 4,
 "nbformat_minor": 4
}
