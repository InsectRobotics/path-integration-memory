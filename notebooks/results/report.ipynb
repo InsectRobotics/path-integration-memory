{
 "cells": [
  {
   "cell_type": "markdown",
   "id": "c763e306-8424-4bdd-8edb-968ed7531262",
   "metadata": {},
   "source": [
    "# Figures and reasonings useful for the report\n",
    "\n",
    "Results here should be:\n",
    "* Well motivated and explained\n",
    "* Labeled\n",
    "* Reproducible (preferably, do not save results at all)"
   ]
  },
  {
   "cell_type": "code",
   "execution_count": null,
   "id": "19a574d0-d966-48c4-9f85-0cc5c6418a89",
   "metadata": {},
   "outputs": [],
   "source": [
    "%load_ext autoreload\n",
    "%autoreload 2\n",
    "\n",
    "import json\n",
    "import numpy as np\n",
    "import matplotlib.pyplot as plt"
   ]
  },
  {
   "cell_type": "markdown",
   "id": "e4a4f3af-281c-440b-8fd3-cbf28f69eb28",
   "metadata": {},
   "source": [
    "## Non-linear integration\n",
    "\n",
    "Using memory cells of the dynamic $c' = \\phi u (1-T)$ where $T = c$ or $T = 10^{-(c_\\text{tot} - c)}$, we want to check how much of the range we can utilize (by varying $\\phi$) before the system becomes too non-linear.\n",
    "\n",
    "It seems that the assumption that we require linearity might be wrong.\n",
    "\n",
    "This assumption was based on the intuition that a displacement at a large distance from home should have the same effect on the phase as an equivalent displacement (the same angular distance) closer to home, which seems like it would require the additivity property.\n",
    "\n",
    "---\n",
    "\n",
    "In the following cell, memory with the dynamics above was tested with a logarithmic range of $\\phi$ between $10^{-5}$ and $10^{-2}$."
   ]
  },
  {
   "cell_type": "code",
   "execution_count": null,
   "id": "dee40801-c39a-4a0d-b507-4ced7302d973",
   "metadata": {},
   "outputs": [],
   "source": [
    "def plot(path, title, ax):\n",
    "    data = json.load(open(path, \"r\"))\n",
    "    points = [(config[\"parameters\"][\"cx\"][\"params\"][\"phi\"], config[\"mean_distance\"]) for config in data.values()]\n",
    "    points.sort(key=lambda x: x[0])\n",
    "    phi = [x[0] for x in points]\n",
    "    performance = [x[1] for x in points]\n",
    "    ax.set_xscale(\"log\")\n",
    "    ax.plot(phi, performance, '.-', label=title)\n",
    "    \n",
    "plt.figure(figsize=(10, 8))\n",
    "plt.xlabel(\"$\\phi$\")\n",
    "plt.ylabel(\"min distance from home\")\n",
    "ax = plt.axes()\n",
    "plot(\"../../results/distances/20220811-171240.json\", \"without transmittance\", ax)\n",
    "plot(\"../../results/distances/20220811-173239.json\", \"with transmittance\", ax)\n",
    "plt.legend()\n",
    "plt.show()"
   ]
  }
 ],
 "metadata": {
  "kernelspec": {
   "display_name": "pim",
   "language": "python",
   "name": "pim"
  },
  "language_info": {
   "codemirror_mode": {
    "name": "ipython",
    "version": 3
   },
   "file_extension": ".py",
   "mimetype": "text/x-python",
   "name": "python",
   "nbconvert_exporter": "python",
   "pygments_lexer": "ipython3",
   "version": "3.10.4"
  }
 },
 "nbformat": 4,
 "nbformat_minor": 5
}
