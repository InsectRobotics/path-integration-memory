{
 "cells": [
  {
   "cell_type": "code",
   "execution_count": null,
   "metadata": {},
   "outputs": [],
   "source": [
    "%load_ext autoreload\n",
    "%autoreload 2\n",
    "%matplotlib notebook"
   ]
  },
  {
   "cell_type": "code",
   "execution_count": null,
   "metadata": {},
   "outputs": [],
   "source": [
    "import json\n",
    "import numpy as np\n",
    "import matplotlib.pyplot as plt\n",
    "\n",
    "from mpl_toolkits.mplot3d import axes3d\n",
    "from matplotlib import cm\n",
    "from scipy.interpolate import griddata\n",
    "\n",
    "from pathlib import Path"
   ]
  },
  {
   "cell_type": "code",
   "execution_count": null,
   "metadata": {},
   "outputs": [],
   "source": [
    "paths = []\n",
    "results = {}\n",
    "\n",
    "# paths.append(Path(\"../../results/distances/20220807-185201.json\")) # 3000 normal phi\n",
    "\n",
    "# paths.append(Path(\"../../results/distances/20220807-201939.json\")) # 500 normal phi\n",
    "# paths.append(Path(\"../../results/distances/20220807-215412.json\")) # 500 big phi\n",
    "\n",
    "# paths.append(Path(\"../../results/distances/20220808-105411.json\")) # 1500 small phi\n",
    "# paths.append(Path(\"../../results/distances/20220807-164740.json\")) # 1500 normal phi\n",
    "# paths.append(Path(\"../../results/distances/20220808-100633.json\")) # 1500 big phi\n",
    "\n",
    "# paths.append(Path(\"../../results/distances/20220808-133109.json\")) # 1500 T_half\n",
    "# paths.append(Path(\"../../results/distances/20220808-134307.json\")) # 1500 T_half long\n",
    "\n",
    "# paths.append(Path(\"../../results/distances/20220808-142650.json\")) # 1500 mix phi/T_half\n",
    "# paths.append(Path(\"../../results/distances/20220808-171339.json\")) # 1500 mix phi/T_half\n",
    "# paths.append(Path(\"../../results/distances/20220808-184217.json\")) # 1500 mix phi/T_half\n",
    "paths.append(Path(\"../../results/distances/20220808-203450.json\"))\n",
    "for path in paths:\n",
    "    with path.open() as f:\n",
    "        result = json.load(f)\n",
    "        results.update(result)"
   ]
  },
  {
   "cell_type": "code",
   "execution_count": null,
   "metadata": {},
   "outputs": [],
   "source": [
    "parameter = \"T_half\"\n",
    "data = [(v[\"parameters\"][\"cx\"][\"params\"][parameter],v[\"mean_distance\"]) for v in results.values()]\n",
    "data = sorted(data)\n",
    "\n",
    "# visited_data = set()\n",
    "\n",
    "# out = []\n",
    "# for a, b in data:\n",
    "#     if not a in visited_data:\n",
    "#         visited_data.add(a)\n",
    "#         out.append((a, b))\n",
    "        \n",
    "# data = out\n",
    "\n",
    "min_x,min_y = zip(min(data, key=lambda tup: tup[1]))\n",
    "x,y = zip(*data)\n",
    "\n",
    "plt.figure(figsize=(10,10))\n",
    "plt.plot(x,y)\n",
    "plt.plot(min_x, min_y, marker=\"o\", markersize=10, color=\"g\",\n",
    "            label=f\"minimum {min_y[0]} at {parameter}={min_x[0]}\")\n",
    "plt.xscale(\"log\")\n",
    "plt.xlabel(parameter)\n",
    "plt.ylabel(\"Mean closest distance\")\n",
    "plt.legend()\n"
   ]
  },
  {
   "cell_type": "code",
   "execution_count": null,
   "metadata": {
    "scrolled": false
   },
   "outputs": [],
   "source": [
    "# 3D plots\n",
    "parameter_1 = \"T_half\"\n",
    "parameter_2 = \"phi\"\n",
    "data = [(v[\"parameters\"][\"cx\"][\"params\"][parameter_1],v[\"parameters\"][\"cx\"][\"params\"][parameter_2],v[\"mean_distance\"]) for v in results.values()]\n",
    "data = sorted(data)\n",
    "\n",
    "\n",
    "minimum = zip(min(data, key=lambda tup: tup[2]))\n",
    "x,y,z = zip(*data)\n",
    "\n",
    "\n",
    "grid_x,grid_y = np.mgrid[min(x):max(x):100j, min(y):max(y):100j]\n",
    "grid_z = griddata((x,y),z,(grid_x,grid_y),method='nearest',rescale=True) # method can be nearest, linear or cubic\n",
    "\n",
    "plt.figure(figsize=(7,7))\n",
    "ax = plt.axes(projection='3d', computed_zorder=False)\n",
    "ax.plot_surface(grid_x,grid_y,grid_z,cmap=cm.Spectral)\n",
    "\n",
    "\n",
    "ax.scatter(*zip(*data))\n",
    "ax.scatter(*minimum, alpha=1, s=100, marker=\"o\")\n",
    "plt.show()"
   ]
  },
  {
   "cell_type": "code",
   "execution_count": null,
   "metadata": {},
   "outputs": [],
   "source": []
  }
 ],
 "metadata": {
  "kernelspec": {
   "display_name": "Python 3 (ipykernel)",
   "language": "python",
   "name": "python3"
  },
  "language_info": {
   "codemirror_mode": {
    "name": "ipython",
    "version": 3
   },
   "file_extension": ".py",
   "mimetype": "text/x-python",
   "name": "python",
   "nbconvert_exporter": "python",
   "pygments_lexer": "ipython3",
   "version": "3.10.4"
  },
  "vscode": {
   "interpreter": {
    "hash": "bc2d2aa2a61f36ee4a08cf2095160b051365b74be29df43545c3fec0565188ae"
   }
  }
 },
 "nbformat": 4,
 "nbformat_minor": 2
}
