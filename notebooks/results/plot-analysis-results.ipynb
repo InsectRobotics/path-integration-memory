{
 "cells": [
  {
   "cell_type": "code",
   "execution_count": null,
   "metadata": {},
   "outputs": [],
   "source": [
    "%load_ext autoreload\n",
    "%autoreload 2"
   ]
  },
  {
   "cell_type": "code",
   "execution_count": null,
   "metadata": {},
   "outputs": [],
   "source": [
    "import json\n",
    "import numpy as np\n",
    "import matplotlib.pyplot as plt\n",
    "\n",
    "from pathlib import Path"
   ]
  },
  {
   "cell_type": "code",
   "execution_count": null,
   "metadata": {},
   "outputs": [],
   "source": [
    "path = Path(\"../../results/distances/20220807-164740.json\")\n",
    "with path.open() as f:\n",
    "    results = json.load(f)"
   ]
  },
  {
   "cell_type": "code",
   "execution_count": null,
   "metadata": {},
   "outputs": [],
   "source": [
    "from cProfile import label\n",
    "\n",
    "\n",
    "parameter = \"phi\"\n",
    "data = [(v[\"parameters\"][\"cx\"][\"params\"][parameter],v[\"mean_distance\"]) for v in results.values()]\n",
    "data = sorted(data)\n",
    "\n",
    "\n",
    "min_x,min_y = zip(min(data, key=lambda tup: tup[1]))\n",
    "x,y = zip(*data)\n",
    "\n",
    "plt.figure(figsize=(10,10))\n",
    "plt.plot(x,y)\n",
    "plt.plot(min_x, min_y, marker=\"o\", markersize=10, label=f\"minimum {min_y[0]} at phi={min_x[0]}\")\n",
    "plt.xlabel(parameter)\n",
    "plt.ylabel(\"Mean closest distance\")\n",
    "plt.legend()\n"
   ]
  },
  {
   "cell_type": "code",
   "execution_count": null,
   "metadata": {},
   "outputs": [],
   "source": []
  }
 ],
 "metadata": {
  "kernelspec": {
   "display_name": "Python 3.10.4 ('venv': venv)",
   "language": "python",
   "name": "python3"
  },
  "language_info": {
   "codemirror_mode": {
    "name": "ipython",
    "version": 3
   },
   "file_extension": ".py",
   "mimetype": "text/x-python",
   "name": "python",
   "nbconvert_exporter": "python",
   "pygments_lexer": "ipython3",
   "version": "3.10.4"
  },
  "orig_nbformat": 4,
  "vscode": {
   "interpreter": {
    "hash": "bc2d2aa2a61f36ee4a08cf2095160b051365b74be29df43545c3fec0565188ae"
   }
  }
 },
 "nbformat": 4,
 "nbformat_minor": 2
}
