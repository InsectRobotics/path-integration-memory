{
 "cells": [
  {
   "cell_type": "code",
   "execution_count": null,
   "id": "c4a230a2-f5f6-45bf-a386-8102d9bdf11e",
   "metadata": {},
   "outputs": [],
   "source": [
    "%load_ext autoreload\n",
    "%autoreload 2"
   ]
  },
  {
   "cell_type": "code",
   "execution_count": null,
   "id": "ffabe2cd-c215-45e9-a683-cd2001a84394",
   "metadata": {},
   "outputs": [],
   "source": [
    "import pim\n",
    "from loguru import logger\n",
    "logger.remove()"
   ]
  },
  {
   "cell_type": "code",
   "execution_count": null,
   "id": "9521561a-0e81-44a9-acfc-9b4d4a3aa221",
   "metadata": {},
   "outputs": [],
   "source": [
    "pim.models(\"stone\", {}).run(\"test\").report()"
   ]
  }
 ],
 "metadata": {
  "kernelspec": {
   "display_name": "pim",
   "language": "python",
   "name": "pim"
  },
  "language_info": {
   "codemirror_mode": {
    "name": "ipython",
    "version": 3
   },
   "file_extension": ".py",
   "mimetype": "text/x-python",
   "name": "python",
   "nbconvert_exporter": "python",
   "pygments_lexer": "ipython3",
   "version": "3.10.4"
  }
 },
 "nbformat": 4,
 "nbformat_minor": 5
}
