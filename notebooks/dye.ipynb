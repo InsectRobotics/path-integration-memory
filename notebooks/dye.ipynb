{
 "cells": [
  {
   "cell_type": "code",
   "execution_count": null,
   "id": "b7e43911",
   "metadata": {},
   "outputs": [],
   "source": [
    "import numpy as np\n",
    "import matplotlib.pyplot as plt\n",
    "from scipy.interpolate import interp1d\n",
    "from scipy.integrate import solve_ivp\n",
    "import scipy.stats as stats"
   ]
  },
  {
   "cell_type": "markdown",
   "id": "0b9d3a61",
   "metadata": {},
   "source": [
    "# Parameters\n",
    "\n",
    "* $\\phi$ : transition rate (abstraction of quantum yield)\n",
    "* $\\beta$ : background activity\n",
    "* $k$ : back-reaction rate coefficient; $k = \\frac{\\ln{2}}{T_{1/2}}$\n",
    "* $T_{1/2}$ : back-reaction half-life\n",
    "* $\\epsilon$ : molar absorption coefficient ($M^{-1}cm^{-1}$)\n",
    "* $l \\approx 10 \\mu m$ : optical path length (cm)\n",
    "* $c_{max} = 0.3~M$ : maximal concentration of OFF-state molecules; **because it's the dye concentration as a whole?**\n",
    "\n",
    "# Intermediates\n",
    "* $c = [OFF]$ : concentration of molecules in OFF state ($M = mol/L$)\n",
    "* $[ON] = c_{max} - c$ : **???**\n",
    "* $A = \\epsilon \\cdot [ON] \\cdot l$ : absorbance (Beer-Lambert law)\n",
    "* $w = T = 10^{-A}$ : transmittance, i.e. synaptic weight\n",
    "\n",
    "# Signals\n",
    "* $x$ : integrand (TN2 - TB1)\n",
    "* $y$ : output to post-synaptic neurons; ideally $y(t) = \\int_0^t x(\\tau) d\\tau$\n",
    "* $u = x + \\beta$ : output from PFN / CPU4\n",
    "* $y = wu$\n",
    "\n",
    "# Dynamics\n",
    "The concentration changes with two terms:\n",
    "\n",
    "$$ c'(t) = -kc(t) + \\phi u(t) $$\n",
    "\n",
    "where $-kc$ is the first-order back-reaction and $\\phi u$ models the increase in molecules in the OFF state in proportion to the signal (light intensity)."
   ]
  },
  {
   "cell_type": "code",
   "execution_count": null,
   "id": "dd99e4f6",
   "metadata": {},
   "outputs": [],
   "source": [
    "# Parameters\n",
    "phi = 0.09\n",
    "beta = 0.1\n",
    "T_half = 4.0\n",
    "k = np.log(2) / T_half\n",
    "epsilon = 1e4\n",
    "l = 10e-6 * 1e2 # 10 microns, in cm\n",
    "c_max = 0.3"
   ]
  },
  {
   "cell_type": "code",
   "execution_count": null,
   "id": "03ceb44f",
   "metadata": {
    "scrolled": true
   },
   "outputs": [],
   "source": [
    "# Inputs\n",
    "t0 = 0\n",
    "tf = 10\n",
    "T = np.linspace(t0, tf, 100)\n",
    "\n",
    "def x(t):\n",
    "    v = stats.norm(3, 1)\n",
    "    return stats.norm(loc=4, scale=1).pdf(t)\n",
    "\n",
    "def x(t):\n",
    "    return np.sin(t) / 2.0 + 0.5\n",
    "\n",
    "def u(t):\n",
    "    return x(t) + beta\n",
    "\n",
    "plt.plot(T, x(T), label=\"x(t)\")\n",
    "plt.plot(T, u(T), label=\"u(t)\")\n",
    "plt.legend()"
   ]
  },
  {
   "cell_type": "code",
   "execution_count": null,
   "id": "20827714",
   "metadata": {},
   "outputs": [],
   "source": [
    "def dcdt(t, c):\n",
    "    return -k * c + phi * u(t)\n",
    "\n",
    "solution = solve_ivp(dcdt, y0 = np.array([0.0]), t_span=(t0, tf), t_eval = T)\n",
    "c = interp1d(T, solution.y[0])\n",
    "\n",
    "plt.plot(T, x(T), label=\"x(t)\")\n",
    "plt.plot(T, u(T), label=\"u(t)\")\n",
    "plt.plot(T, c(T), label=\"c(t)\")\n",
    "plt.legend()"
   ]
  },
  {
   "cell_type": "code",
   "execution_count": null,
   "id": "e67ac64e",
   "metadata": {},
   "outputs": [],
   "source": [
    "def A(t):\n",
    "    return epsilon * (c_max - c(t)) * l\n",
    "\n",
    "def w(t):\n",
    "    return 10 ** -A(t)\n",
    "\n",
    "plt.figure()\n",
    "plt.plot(T, A(T), label=\"A(t)\")\n",
    "plt.plot(T, c(T), label=\"c(t)\")\n",
    "plt.legend()\n",
    "\n",
    "plt.figure()\n",
    "plt.plot(T, w(T), label=\"w(t)\")\n",
    "plt.plot(T, c(T), label=\"c(t)\")\n",
    "plt.legend()"
   ]
  },
  {
   "cell_type": "code",
   "execution_count": null,
   "id": "e71c6447",
   "metadata": {},
   "outputs": [],
   "source": [
    "def y(t):\n",
    "    return w(t) * u(t)\n",
    "\n",
    "plt.plot(T, x(T), label=\"x(t)\")\n",
    "plt.plot(T, y(T), label=\"y(t)\")\n",
    "plt.plot(T, solve_ivp(lambda t, _: x(t), y0=np.array([0.0]), t_span=(t0, tf), t_eval=T).y[0], label=\"$\\int$x(t)\")\n",
    "plt.legend()"
   ]
  }
 ],
 "metadata": {
  "kernelspec": {
   "display_name": "pim",
   "language": "python",
   "name": "pim"
  },
  "language_info": {
   "codemirror_mode": {
    "name": "ipython",
    "version": 3
   },
   "file_extension": ".py",
   "mimetype": "text/x-python",
   "name": "python",
   "nbconvert_exporter": "python",
   "pygments_lexer": "ipython3",
   "version": "3.10.4"
  }
 },
 "nbformat": 4,
 "nbformat_minor": 5
}
